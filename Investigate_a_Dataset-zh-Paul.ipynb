{
 "cells": [
  {
   "cell_type": "markdown",
   "metadata": {},
   "source": [
    "> **提示**：欢迎参加“调查数据集”项目！引用段会添加这类提示，来帮助你制定调查方法。在你提交项目之前，你可以浏览一下报告，将这一段删除，以保持报告的简洁性。首先，你需要双击该 Markdown 框(cell)，将标题更改为与数据集和调查相关的标题。\n",
    "\n",
    "# 项目：电影\n",
    "\n",
    "## 目录\n",
    "<ul>\n",
    "<li><a href=\"#intro\">简介</a></li>\n",
    "<li><a href=\"#wrangling\">数据整理</a></li>\n",
    "<li><a href=\"#eda\">探索性数据分析</a></li>\n",
    "<li><a href=\"#conclusions\">结论</a></li>\n",
    "</ul>\n",
    "\n",
    "<a id='intro'></a>\n",
    "## 简介\n",
    "\n",
    "> **提示**：在报告的这一部分，你需要首先对已选择进行分析的数据集进行简要的介绍。在这一部分末尾，对你计划在报告过程中探索的问题进行描述。你需要建立至少包含一个因变量和三个自变量的分析报告。如果你不确定要问什么问题，请务必先熟悉数据集、数据集变量以及数据集上下文，以便确定要探索的问题。\n",
    "\n",
    "> 如果尚未选择和下载数据，务必先进行这一步，再回到这里。如需在这个工作区中处理数据，还需要将其上传到工作区。因此，请单击左上角的 jupyter 图标，回到工作区目录。右上角有一个‘上传’按钮，可以将你的数据文件添加到工作区。然后单击 .ipynb 文件名，回到这里。"
   ]
  },
  {
   "cell_type": "code",
   "execution_count": 1,
   "metadata": {},
   "outputs": [],
   "source": [
    "# 用这个框对你计划使用的所有数据包进行设置\n",
    "#   导入语句。\n",
    "\n",
    "# 务必包含一个‘magic word’，以便将你的视图\n",
    "#   与 notebook 保持一致。关于更多信息，请访问该网页：\n",
    "#   http://ipython.readthedocs.io/en/stable/interactive/magics.html\n",
    "import numpy as np\n",
    "import pandas as pd\n",
    "import matplotlib as mpl\n",
    "import matplotlib.pyplot as plt\n",
    "%matplotlib inline"
   ]
  },
  {
   "cell_type": "markdown",
   "metadata": {},
   "source": [
    "<a id='wrangling'></a>\n",
    "## 数据整理\n",
    "\n",
    "> **提示**：在报告的这一部分中载入数据，检查简洁度，然后整理和清理数据集，以便进行分析。请务必将步骤仔细归档，并确定清理决策是否正确。\n",
    "\n",
    "### 常规属性"
   ]
  },
  {
   "cell_type": "code",
   "execution_count": 2,
   "metadata": {
    "scrolled": true
   },
   "outputs": [
    {
     "data": {
      "text/html": [
       "<div>\n",
       "<style scoped>\n",
       "    .dataframe tbody tr th:only-of-type {\n",
       "        vertical-align: middle;\n",
       "    }\n",
       "\n",
       "    .dataframe tbody tr th {\n",
       "        vertical-align: top;\n",
       "    }\n",
       "\n",
       "    .dataframe thead th {\n",
       "        text-align: right;\n",
       "    }\n",
       "</style>\n",
       "<table border=\"1\" class=\"dataframe\">\n",
       "  <thead>\n",
       "    <tr style=\"text-align: right;\">\n",
       "      <th></th>\n",
       "      <th>id</th>\n",
       "      <th>imdb_id</th>\n",
       "      <th>popularity</th>\n",
       "      <th>budget</th>\n",
       "      <th>revenue</th>\n",
       "      <th>original_title</th>\n",
       "      <th>cast</th>\n",
       "      <th>homepage</th>\n",
       "      <th>director</th>\n",
       "      <th>tagline</th>\n",
       "      <th>...</th>\n",
       "      <th>overview</th>\n",
       "      <th>runtime</th>\n",
       "      <th>genres</th>\n",
       "      <th>production_companies</th>\n",
       "      <th>release_date</th>\n",
       "      <th>vote_count</th>\n",
       "      <th>vote_average</th>\n",
       "      <th>release_year</th>\n",
       "      <th>budget_adj</th>\n",
       "      <th>revenue_adj</th>\n",
       "    </tr>\n",
       "  </thead>\n",
       "  <tbody>\n",
       "    <tr>\n",
       "      <th>0</th>\n",
       "      <td>135397</td>\n",
       "      <td>tt0369610</td>\n",
       "      <td>32.985763</td>\n",
       "      <td>150000000</td>\n",
       "      <td>1513528810</td>\n",
       "      <td>Jurassic World</td>\n",
       "      <td>Chris Pratt|Bryce Dallas Howard|Irrfan Khan|Vi...</td>\n",
       "      <td>http://www.jurassicworld.com/</td>\n",
       "      <td>Colin Trevorrow</td>\n",
       "      <td>The park is open.</td>\n",
       "      <td>...</td>\n",
       "      <td>Twenty-two years after the events of Jurassic ...</td>\n",
       "      <td>124</td>\n",
       "      <td>Action|Adventure|Science Fiction|Thriller</td>\n",
       "      <td>Universal Studios|Amblin Entertainment|Legenda...</td>\n",
       "      <td>6/9/15</td>\n",
       "      <td>5562</td>\n",
       "      <td>6.5</td>\n",
       "      <td>2015</td>\n",
       "      <td>1.379999e+08</td>\n",
       "      <td>1.392446e+09</td>\n",
       "    </tr>\n",
       "    <tr>\n",
       "      <th>1</th>\n",
       "      <td>76341</td>\n",
       "      <td>tt1392190</td>\n",
       "      <td>28.419936</td>\n",
       "      <td>150000000</td>\n",
       "      <td>378436354</td>\n",
       "      <td>Mad Max: Fury Road</td>\n",
       "      <td>Tom Hardy|Charlize Theron|Hugh Keays-Byrne|Nic...</td>\n",
       "      <td>http://www.madmaxmovie.com/</td>\n",
       "      <td>George Miller</td>\n",
       "      <td>What a Lovely Day.</td>\n",
       "      <td>...</td>\n",
       "      <td>An apocalyptic story set in the furthest reach...</td>\n",
       "      <td>120</td>\n",
       "      <td>Action|Adventure|Science Fiction|Thriller</td>\n",
       "      <td>Village Roadshow Pictures|Kennedy Miller Produ...</td>\n",
       "      <td>5/13/15</td>\n",
       "      <td>6185</td>\n",
       "      <td>7.1</td>\n",
       "      <td>2015</td>\n",
       "      <td>1.379999e+08</td>\n",
       "      <td>3.481613e+08</td>\n",
       "    </tr>\n",
       "    <tr>\n",
       "      <th>2</th>\n",
       "      <td>262500</td>\n",
       "      <td>tt2908446</td>\n",
       "      <td>13.112507</td>\n",
       "      <td>110000000</td>\n",
       "      <td>295238201</td>\n",
       "      <td>Insurgent</td>\n",
       "      <td>Shailene Woodley|Theo James|Kate Winslet|Ansel...</td>\n",
       "      <td>http://www.thedivergentseries.movie/#insurgent</td>\n",
       "      <td>Robert Schwentke</td>\n",
       "      <td>One Choice Can Destroy You</td>\n",
       "      <td>...</td>\n",
       "      <td>Beatrice Prior must confront her inner demons ...</td>\n",
       "      <td>119</td>\n",
       "      <td>Adventure|Science Fiction|Thriller</td>\n",
       "      <td>Summit Entertainment|Mandeville Films|Red Wago...</td>\n",
       "      <td>3/18/15</td>\n",
       "      <td>2480</td>\n",
       "      <td>6.3</td>\n",
       "      <td>2015</td>\n",
       "      <td>1.012000e+08</td>\n",
       "      <td>2.716190e+08</td>\n",
       "    </tr>\n",
       "    <tr>\n",
       "      <th>3</th>\n",
       "      <td>140607</td>\n",
       "      <td>tt2488496</td>\n",
       "      <td>11.173104</td>\n",
       "      <td>200000000</td>\n",
       "      <td>2068178225</td>\n",
       "      <td>Star Wars: The Force Awakens</td>\n",
       "      <td>Harrison Ford|Mark Hamill|Carrie Fisher|Adam D...</td>\n",
       "      <td>http://www.starwars.com/films/star-wars-episod...</td>\n",
       "      <td>J.J. Abrams</td>\n",
       "      <td>Every generation has a story.</td>\n",
       "      <td>...</td>\n",
       "      <td>Thirty years after defeating the Galactic Empi...</td>\n",
       "      <td>136</td>\n",
       "      <td>Action|Adventure|Science Fiction|Fantasy</td>\n",
       "      <td>Lucasfilm|Truenorth Productions|Bad Robot</td>\n",
       "      <td>12/15/15</td>\n",
       "      <td>5292</td>\n",
       "      <td>7.5</td>\n",
       "      <td>2015</td>\n",
       "      <td>1.839999e+08</td>\n",
       "      <td>1.902723e+09</td>\n",
       "    </tr>\n",
       "    <tr>\n",
       "      <th>4</th>\n",
       "      <td>168259</td>\n",
       "      <td>tt2820852</td>\n",
       "      <td>9.335014</td>\n",
       "      <td>190000000</td>\n",
       "      <td>1506249360</td>\n",
       "      <td>Furious 7</td>\n",
       "      <td>Vin Diesel|Paul Walker|Jason Statham|Michelle ...</td>\n",
       "      <td>http://www.furious7.com/</td>\n",
       "      <td>James Wan</td>\n",
       "      <td>Vengeance Hits Home</td>\n",
       "      <td>...</td>\n",
       "      <td>Deckard Shaw seeks revenge against Dominic Tor...</td>\n",
       "      <td>137</td>\n",
       "      <td>Action|Crime|Thriller</td>\n",
       "      <td>Universal Pictures|Original Film|Media Rights ...</td>\n",
       "      <td>4/1/15</td>\n",
       "      <td>2947</td>\n",
       "      <td>7.3</td>\n",
       "      <td>2015</td>\n",
       "      <td>1.747999e+08</td>\n",
       "      <td>1.385749e+09</td>\n",
       "    </tr>\n",
       "  </tbody>\n",
       "</table>\n",
       "<p>5 rows × 21 columns</p>\n",
       "</div>"
      ],
      "text/plain": [
       "       id    imdb_id  popularity     budget     revenue  \\\n",
       "0  135397  tt0369610   32.985763  150000000  1513528810   \n",
       "1   76341  tt1392190   28.419936  150000000   378436354   \n",
       "2  262500  tt2908446   13.112507  110000000   295238201   \n",
       "3  140607  tt2488496   11.173104  200000000  2068178225   \n",
       "4  168259  tt2820852    9.335014  190000000  1506249360   \n",
       "\n",
       "                 original_title  \\\n",
       "0                Jurassic World   \n",
       "1            Mad Max: Fury Road   \n",
       "2                     Insurgent   \n",
       "3  Star Wars: The Force Awakens   \n",
       "4                     Furious 7   \n",
       "\n",
       "                                                cast  \\\n",
       "0  Chris Pratt|Bryce Dallas Howard|Irrfan Khan|Vi...   \n",
       "1  Tom Hardy|Charlize Theron|Hugh Keays-Byrne|Nic...   \n",
       "2  Shailene Woodley|Theo James|Kate Winslet|Ansel...   \n",
       "3  Harrison Ford|Mark Hamill|Carrie Fisher|Adam D...   \n",
       "4  Vin Diesel|Paul Walker|Jason Statham|Michelle ...   \n",
       "\n",
       "                                            homepage          director  \\\n",
       "0                      http://www.jurassicworld.com/   Colin Trevorrow   \n",
       "1                        http://www.madmaxmovie.com/     George Miller   \n",
       "2     http://www.thedivergentseries.movie/#insurgent  Robert Schwentke   \n",
       "3  http://www.starwars.com/films/star-wars-episod...       J.J. Abrams   \n",
       "4                           http://www.furious7.com/         James Wan   \n",
       "\n",
       "                         tagline      ...       \\\n",
       "0              The park is open.      ...        \n",
       "1             What a Lovely Day.      ...        \n",
       "2     One Choice Can Destroy You      ...        \n",
       "3  Every generation has a story.      ...        \n",
       "4            Vengeance Hits Home      ...        \n",
       "\n",
       "                                            overview runtime  \\\n",
       "0  Twenty-two years after the events of Jurassic ...     124   \n",
       "1  An apocalyptic story set in the furthest reach...     120   \n",
       "2  Beatrice Prior must confront her inner demons ...     119   \n",
       "3  Thirty years after defeating the Galactic Empi...     136   \n",
       "4  Deckard Shaw seeks revenge against Dominic Tor...     137   \n",
       "\n",
       "                                      genres  \\\n",
       "0  Action|Adventure|Science Fiction|Thriller   \n",
       "1  Action|Adventure|Science Fiction|Thriller   \n",
       "2         Adventure|Science Fiction|Thriller   \n",
       "3   Action|Adventure|Science Fiction|Fantasy   \n",
       "4                      Action|Crime|Thriller   \n",
       "\n",
       "                                production_companies release_date vote_count  \\\n",
       "0  Universal Studios|Amblin Entertainment|Legenda...       6/9/15       5562   \n",
       "1  Village Roadshow Pictures|Kennedy Miller Produ...      5/13/15       6185   \n",
       "2  Summit Entertainment|Mandeville Films|Red Wago...      3/18/15       2480   \n",
       "3          Lucasfilm|Truenorth Productions|Bad Robot     12/15/15       5292   \n",
       "4  Universal Pictures|Original Film|Media Rights ...       4/1/15       2947   \n",
       "\n",
       "   vote_average  release_year    budget_adj   revenue_adj  \n",
       "0           6.5          2015  1.379999e+08  1.392446e+09  \n",
       "1           7.1          2015  1.379999e+08  3.481613e+08  \n",
       "2           6.3          2015  1.012000e+08  2.716190e+08  \n",
       "3           7.5          2015  1.839999e+08  1.902723e+09  \n",
       "4           7.3          2015  1.747999e+08  1.385749e+09  \n",
       "\n",
       "[5 rows x 21 columns]"
      ]
     },
     "execution_count": 2,
     "metadata": {},
     "output_type": "execute_result"
    }
   ],
   "source": [
    "# 加载数据并打印几行。进行这几项操作，来检查数据\n",
    "#   类型，以及是否有缺失数据或错误数据的情况。\n",
    "df = pd.read_csv('tmdb-movies.csv')\n",
    "df.head()"
   ]
  },
  {
   "cell_type": "code",
   "execution_count": 3,
   "metadata": {},
   "outputs": [
    {
     "data": {
      "text/plain": [
       "(10866, 21)"
      ]
     },
     "execution_count": 3,
     "metadata": {},
     "output_type": "execute_result"
    }
   ],
   "source": [
    "# 查看数据集的行列数\n",
    "df.shape"
   ]
  },
  {
   "cell_type": "code",
   "execution_count": 5,
   "metadata": {
    "scrolled": true
   },
   "outputs": [
    {
     "name": "stdout",
     "output_type": "stream",
     "text": [
      "<class 'pandas.core.frame.DataFrame'>\n",
      "RangeIndex: 10866 entries, 0 to 10865\n",
      "Data columns (total 21 columns):\n",
      "id                      10866 non-null int64\n",
      "imdb_id                 10856 non-null object\n",
      "popularity              10866 non-null float64\n",
      "budget                  10866 non-null int64\n",
      "revenue                 10866 non-null int64\n",
      "original_title          10866 non-null object\n",
      "cast                    10790 non-null object\n",
      "homepage                2936 non-null object\n",
      "director                10822 non-null object\n",
      "tagline                 8042 non-null object\n",
      "keywords                9373 non-null object\n",
      "overview                10862 non-null object\n",
      "runtime                 10866 non-null int64\n",
      "genres                  10843 non-null object\n",
      "production_companies    9836 non-null object\n",
      "release_date            10866 non-null object\n",
      "vote_count              10866 non-null int64\n",
      "vote_average            10866 non-null float64\n",
      "release_year            10866 non-null int64\n",
      "budget_adj              10866 non-null float64\n",
      "revenue_adj             10866 non-null float64\n",
      "dtypes: float64(4), int64(6), object(11)\n",
      "memory usage: 1.7+ MB\n"
     ]
    }
   ],
   "source": [
    "# 查看各列数据的格式，以及各列数据缺失情况\n",
    "\n",
    "df.info()"
   ]
  },
  {
   "cell_type": "markdown",
   "metadata": {},
   "source": [
    ">将电影数据集读取为df  \n",
    "并查看数据集的行列数，各列数据的格式，以及各列数的缺失情况"
   ]
  },
  {
   "cell_type": "markdown",
   "metadata": {},
   "source": [
    "> **提示**：_不应_在每个 notebook 框 (cell) 中进行太多操作。可以自由创建框，来进行数据探索。在这个项目中，可以在初始 notebook 中进行大量探索性操作。不要求对其进行组织，但请务必仔细阅读备注，理解每个代码框的用途。完成分析之后，你可以创建 notebook 副本，在其中去除多余数据，组织好你的每一步分析，从而形成信息连贯、结构紧密的报告。\n",
    "\n",
    "> **提示**：请务必向你的读者告知你在调查中采取的步骤。在每个代码框或每组相关代码框后面，用 markdown 框对前面的框中的调查结果向读者进行说明。你需要尽量做到这一点，以便读者更好地理解后续框中的内容。\n",
    "\n",
    "### 数据清理（请用更具体的标题来代替该标题。）"
   ]
  },
  {
   "cell_type": "code",
   "execution_count": 3,
   "metadata": {},
   "outputs": [
    {
     "data": {
      "text/plain": [
       "1"
      ]
     },
     "execution_count": 3,
     "metadata": {},
     "output_type": "execute_result"
    }
   ],
   "source": [
    "# 在讨论数据结构和需要解决的任何问题之后，\n",
    "#   在本部分的第二小部分进行这些清理步骤。\n",
    "\n",
    "df.duplicated().sum()"
   ]
  },
  {
   "cell_type": "code",
   "execution_count": 4,
   "metadata": {},
   "outputs": [
    {
     "data": {
      "text/plain": [
       "0"
      ]
     },
     "execution_count": 4,
     "metadata": {},
     "output_type": "execute_result"
    }
   ],
   "source": [
    "df.drop_duplicates(inplace=True)\n",
    "df.duplicated().sum()"
   ]
  },
  {
   "cell_type": "markdown",
   "metadata": {},
   "source": [
    ">删除重复的行，并检查"
   ]
  },
  {
   "cell_type": "code",
   "execution_count": 5,
   "metadata": {},
   "outputs": [],
   "source": [
    "df = df[['popularity','genres','cast','director','vote_count','vote_average','release_year','budget_adj','revenue_adj', 'budget','revenue']]"
   ]
  },
  {
   "cell_type": "markdown",
   "metadata": {},
   "source": [
    ">选取对分析有帮助的列"
   ]
  },
  {
   "cell_type": "code",
   "execution_count": 6,
   "metadata": {},
   "outputs": [
    {
     "data": {
      "text/plain": [
       "popularity       0\n",
       "genres          23\n",
       "cast            76\n",
       "director        44\n",
       "vote_count       0\n",
       "vote_average     0\n",
       "release_year     0\n",
       "budget_adj       0\n",
       "revenue_adj      0\n",
       "budget           0\n",
       "revenue          0\n",
       "dtype: int64"
      ]
     },
     "execution_count": 6,
     "metadata": {},
     "output_type": "execute_result"
    }
   ],
   "source": [
    "# 查看各列缺失值情况\n",
    "\n",
    "df.isna().sum()"
   ]
  },
  {
   "cell_type": "code",
   "execution_count": 7,
   "metadata": {},
   "outputs": [],
   "source": [
    "# 有两个问题需要研究，创建df的两个副本df_1和df_2，进行不同的数据整理\n",
    "\n",
    "df_1 = df.copy()\n",
    "df_2 = df.copy()"
   ]
  },
  {
   "cell_type": "code",
   "execution_count": 8,
   "metadata": {},
   "outputs": [],
   "source": [
    "# 问题一只涉及电影类别，因此只需要清理genres中的缺失值\n",
    "\n",
    "df_1 = df_1.dropna(subset=['genres'])"
   ]
  },
  {
   "cell_type": "markdown",
   "metadata": {},
   "source": [
    ">去掉缺['genres']列中缺失的行"
   ]
  },
  {
   "cell_type": "code",
   "execution_count": 9,
   "metadata": {},
   "outputs": [
    {
     "data": {
      "text/plain": [
       "popularity       0\n",
       "genres           0\n",
       "cast            75\n",
       "director        42\n",
       "vote_count       0\n",
       "vote_average     0\n",
       "release_year     0\n",
       "budget_adj       0\n",
       "revenue_adj      0\n",
       "budget           0\n",
       "revenue          0\n",
       "dtype: int64"
      ]
     },
     "execution_count": 9,
     "metadata": {},
     "output_type": "execute_result"
    }
   ],
   "source": [
    "# 查看df_1中genres列中缺失值 情况\n",
    "\n",
    "df_1.isnull().sum()"
   ]
  },
  {
   "cell_type": "code",
   "execution_count": 10,
   "metadata": {},
   "outputs": [
    {
     "data": {
      "text/plain": [
       "(10842, 11)"
      ]
     },
     "execution_count": 10,
     "metadata": {},
     "output_type": "execute_result"
    }
   ],
   "source": [
    "df_1.shape"
   ]
  },
  {
   "cell_type": "code",
   "execution_count": 11,
   "metadata": {},
   "outputs": [
    {
     "data": {
      "text/plain": [
       "Int64Index([    0,     1,     2,     3,     4,     5,     6,     7,     8,\n",
       "                9,\n",
       "            ...\n",
       "            10856, 10857, 10858, 10859, 10860, 10861, 10862, 10863, 10864,\n",
       "            10865],\n",
       "           dtype='int64', length=10842)"
      ]
     },
     "execution_count": 11,
     "metadata": {},
     "output_type": "execute_result"
    }
   ],
   "source": [
    "df_1.index"
   ]
  },
  {
   "cell_type": "code",
   "execution_count": 12,
   "metadata": {},
   "outputs": [],
   "source": [
    "# 问题二，研究的问题涉及到 电影类别，演员，导演，\n",
    "# 需要对所有有缺失值的列，清理缺失值\n",
    "\n",
    "df_2.dropna(inplace=True)"
   ]
  },
  {
   "cell_type": "code",
   "execution_count": 13,
   "metadata": {},
   "outputs": [
    {
     "data": {
      "text/plain": [
       "False"
      ]
     },
     "execution_count": 13,
     "metadata": {},
     "output_type": "execute_result"
    }
   ],
   "source": [
    "# 看是否清空了所有的缺失值\n",
    "\n",
    "df_2.isna().sum().any()  "
   ]
  },
  {
   "cell_type": "code",
   "execution_count": 14,
   "metadata": {},
   "outputs": [
    {
     "data": {
      "text/plain": [
       "Int64Index([    0,     1,     2,     3,     4,     5,     6,     7,     8,\n",
       "                9,\n",
       "            ...\n",
       "            10856, 10857, 10858, 10859, 10860, 10861, 10862, 10863, 10864,\n",
       "            10865],\n",
       "           dtype='int64', length=10731)"
      ]
     },
     "execution_count": 14,
     "metadata": {},
     "output_type": "execute_result"
    }
   ],
   "source": [
    "df_2.index"
   ]
  },
  {
   "cell_type": "markdown",
   "metadata": {},
   "source": [
    "<a id='eda'></a>\n",
    "## 探索性数据分析\n",
    "\n",
    "> **提示**在你完成数据整理和清理之后，现在可以进行探索性数据分析了。你需要计算统计值，创建可视化图表，解决你在一开始的简介部分中提出的研究问题。我们推荐你采用系统化方法。一次只探索一个变量，然后探索变量之间的关系。\n",
    "\n",
    "## 研究问题 1 电影类型与受欢迎程度的关系 "
   ]
  },
  {
   "cell_type": "code",
   "execution_count": 15,
   "metadata": {
    "scrolled": true
   },
   "outputs": [
    {
     "data": {
      "text/plain": [
       "0    [Action, Adventure, Science Fiction, Thriller]\n",
       "1    [Action, Adventure, Science Fiction, Thriller]\n",
       "2            [Adventure, Science Fiction, Thriller]\n",
       "3     [Action, Adventure, Science Fiction, Fantasy]\n",
       "4                         [Action, Crime, Thriller]\n",
       "Name: genres, dtype: object"
      ]
     },
     "execution_count": 15,
     "metadata": {},
     "output_type": "execute_result"
    }
   ],
   "source": [
    "# 将genres列拆分 得到新的Series\n",
    "\n",
    "gen_n = df_1.genres.str.split('|')\n",
    "gen_n.head()"
   ]
  },
  {
   "cell_type": "code",
   "execution_count": 16,
   "metadata": {},
   "outputs": [],
   "source": [
    "# 将拆分出来的电影类型列，转化为列表格式\n",
    "\n",
    "gen_n_list = gen_n.tolist()  "
   ]
  },
  {
   "cell_type": "code",
   "execution_count": 17,
   "metadata": {
    "scrolled": true
   },
   "outputs": [
    {
     "data": {
      "text/html": [
       "<div>\n",
       "<style scoped>\n",
       "    .dataframe tbody tr th:only-of-type {\n",
       "        vertical-align: middle;\n",
       "    }\n",
       "\n",
       "    .dataframe tbody tr th {\n",
       "        vertical-align: top;\n",
       "    }\n",
       "\n",
       "    .dataframe thead th {\n",
       "        text-align: right;\n",
       "    }\n",
       "</style>\n",
       "<table border=\"1\" class=\"dataframe\">\n",
       "  <thead>\n",
       "    <tr style=\"text-align: right;\">\n",
       "      <th></th>\n",
       "      <th>g1</th>\n",
       "      <th>g2</th>\n",
       "      <th>g3</th>\n",
       "      <th>g4</th>\n",
       "      <th>g5</th>\n",
       "    </tr>\n",
       "  </thead>\n",
       "  <tbody>\n",
       "    <tr>\n",
       "      <th>0</th>\n",
       "      <td>Action</td>\n",
       "      <td>Adventure</td>\n",
       "      <td>Science Fiction</td>\n",
       "      <td>Thriller</td>\n",
       "      <td>None</td>\n",
       "    </tr>\n",
       "    <tr>\n",
       "      <th>1</th>\n",
       "      <td>Action</td>\n",
       "      <td>Adventure</td>\n",
       "      <td>Science Fiction</td>\n",
       "      <td>Thriller</td>\n",
       "      <td>None</td>\n",
       "    </tr>\n",
       "    <tr>\n",
       "      <th>2</th>\n",
       "      <td>Adventure</td>\n",
       "      <td>Science Fiction</td>\n",
       "      <td>Thriller</td>\n",
       "      <td>None</td>\n",
       "      <td>None</td>\n",
       "    </tr>\n",
       "    <tr>\n",
       "      <th>3</th>\n",
       "      <td>Action</td>\n",
       "      <td>Adventure</td>\n",
       "      <td>Science Fiction</td>\n",
       "      <td>Fantasy</td>\n",
       "      <td>None</td>\n",
       "    </tr>\n",
       "    <tr>\n",
       "      <th>4</th>\n",
       "      <td>Action</td>\n",
       "      <td>Crime</td>\n",
       "      <td>Thriller</td>\n",
       "      <td>None</td>\n",
       "      <td>None</td>\n",
       "    </tr>\n",
       "  </tbody>\n",
       "</table>\n",
       "</div>"
      ],
      "text/plain": [
       "          g1               g2               g3        g4    g5\n",
       "0     Action        Adventure  Science Fiction  Thriller  None\n",
       "1     Action        Adventure  Science Fiction  Thriller  None\n",
       "2  Adventure  Science Fiction         Thriller      None  None\n",
       "3     Action        Adventure  Science Fiction   Fantasy  None\n",
       "4     Action            Crime         Thriller      None  None"
      ]
     },
     "execution_count": 17,
     "metadata": {},
     "output_type": "execute_result"
    }
   ],
   "source": [
    "# 创建一个dataframe，包含拆分出来的电影类型。并设置了列名\n",
    "\n",
    "df_gen = pd.DataFrame(data=gen_n_list, columns=['g1','g2','g3','g4','g5']) \n",
    "df_gen.head()"
   ]
  },
  {
   "cell_type": "code",
   "execution_count": 18,
   "metadata": {},
   "outputs": [
    {
     "data": {
      "text/plain": [
       "False"
      ]
     },
     "execution_count": 18,
     "metadata": {},
     "output_type": "execute_result"
    }
   ],
   "source": [
    "# 查看要合并的两个dataframe的index，是否相同，\n",
    "\n",
    "(df_1.index == df_gen.index).all()  \n",
    "\n",
    "# 结果不相同。"
   ]
  },
  {
   "cell_type": "markdown",
   "metadata": {},
   "source": [
    ">要合并的两个dataframe的index  \n",
    "结果不相同。"
   ]
  },
  {
   "cell_type": "code",
   "execution_count": 19,
   "metadata": {},
   "outputs": [],
   "source": [
    "# 将df_gen 的index 赋值给 df_1，使df_1与df_gen的index相同，\n",
    "\n",
    "df_1.index=df_gen.index  "
   ]
  },
  {
   "cell_type": "code",
   "execution_count": 20,
   "metadata": {},
   "outputs": [
    {
     "data": {
      "text/html": [
       "<div>\n",
       "<style scoped>\n",
       "    .dataframe tbody tr th:only-of-type {\n",
       "        vertical-align: middle;\n",
       "    }\n",
       "\n",
       "    .dataframe tbody tr th {\n",
       "        vertical-align: top;\n",
       "    }\n",
       "\n",
       "    .dataframe thead th {\n",
       "        text-align: right;\n",
       "    }\n",
       "</style>\n",
       "<table border=\"1\" class=\"dataframe\">\n",
       "  <thead>\n",
       "    <tr style=\"text-align: right;\">\n",
       "      <th></th>\n",
       "      <th>popularity</th>\n",
       "      <th>genres</th>\n",
       "      <th>cast</th>\n",
       "      <th>director</th>\n",
       "      <th>vote_count</th>\n",
       "      <th>vote_average</th>\n",
       "      <th>release_year</th>\n",
       "      <th>budget_adj</th>\n",
       "      <th>revenue_adj</th>\n",
       "      <th>budget</th>\n",
       "      <th>revenue</th>\n",
       "      <th>g1</th>\n",
       "      <th>g2</th>\n",
       "      <th>g3</th>\n",
       "      <th>g4</th>\n",
       "      <th>g5</th>\n",
       "    </tr>\n",
       "  </thead>\n",
       "  <tbody>\n",
       "    <tr>\n",
       "      <th>0</th>\n",
       "      <td>32.985763</td>\n",
       "      <td>Action|Adventure|Science Fiction|Thriller</td>\n",
       "      <td>Chris Pratt|Bryce Dallas Howard|Irrfan Khan|Vi...</td>\n",
       "      <td>Colin Trevorrow</td>\n",
       "      <td>5562</td>\n",
       "      <td>6.5</td>\n",
       "      <td>2015</td>\n",
       "      <td>1.379999e+08</td>\n",
       "      <td>1.392446e+09</td>\n",
       "      <td>150000000</td>\n",
       "      <td>1513528810</td>\n",
       "      <td>Action</td>\n",
       "      <td>Adventure</td>\n",
       "      <td>Science Fiction</td>\n",
       "      <td>Thriller</td>\n",
       "      <td>None</td>\n",
       "    </tr>\n",
       "    <tr>\n",
       "      <th>1</th>\n",
       "      <td>28.419936</td>\n",
       "      <td>Action|Adventure|Science Fiction|Thriller</td>\n",
       "      <td>Tom Hardy|Charlize Theron|Hugh Keays-Byrne|Nic...</td>\n",
       "      <td>George Miller</td>\n",
       "      <td>6185</td>\n",
       "      <td>7.1</td>\n",
       "      <td>2015</td>\n",
       "      <td>1.379999e+08</td>\n",
       "      <td>3.481613e+08</td>\n",
       "      <td>150000000</td>\n",
       "      <td>378436354</td>\n",
       "      <td>Action</td>\n",
       "      <td>Adventure</td>\n",
       "      <td>Science Fiction</td>\n",
       "      <td>Thriller</td>\n",
       "      <td>None</td>\n",
       "    </tr>\n",
       "    <tr>\n",
       "      <th>2</th>\n",
       "      <td>13.112507</td>\n",
       "      <td>Adventure|Science Fiction|Thriller</td>\n",
       "      <td>Shailene Woodley|Theo James|Kate Winslet|Ansel...</td>\n",
       "      <td>Robert Schwentke</td>\n",
       "      <td>2480</td>\n",
       "      <td>6.3</td>\n",
       "      <td>2015</td>\n",
       "      <td>1.012000e+08</td>\n",
       "      <td>2.716190e+08</td>\n",
       "      <td>110000000</td>\n",
       "      <td>295238201</td>\n",
       "      <td>Adventure</td>\n",
       "      <td>Science Fiction</td>\n",
       "      <td>Thriller</td>\n",
       "      <td>None</td>\n",
       "      <td>None</td>\n",
       "    </tr>\n",
       "    <tr>\n",
       "      <th>3</th>\n",
       "      <td>11.173104</td>\n",
       "      <td>Action|Adventure|Science Fiction|Fantasy</td>\n",
       "      <td>Harrison Ford|Mark Hamill|Carrie Fisher|Adam D...</td>\n",
       "      <td>J.J. Abrams</td>\n",
       "      <td>5292</td>\n",
       "      <td>7.5</td>\n",
       "      <td>2015</td>\n",
       "      <td>1.839999e+08</td>\n",
       "      <td>1.902723e+09</td>\n",
       "      <td>200000000</td>\n",
       "      <td>2068178225</td>\n",
       "      <td>Action</td>\n",
       "      <td>Adventure</td>\n",
       "      <td>Science Fiction</td>\n",
       "      <td>Fantasy</td>\n",
       "      <td>None</td>\n",
       "    </tr>\n",
       "    <tr>\n",
       "      <th>4</th>\n",
       "      <td>9.335014</td>\n",
       "      <td>Action|Crime|Thriller</td>\n",
       "      <td>Vin Diesel|Paul Walker|Jason Statham|Michelle ...</td>\n",
       "      <td>James Wan</td>\n",
       "      <td>2947</td>\n",
       "      <td>7.3</td>\n",
       "      <td>2015</td>\n",
       "      <td>1.747999e+08</td>\n",
       "      <td>1.385749e+09</td>\n",
       "      <td>190000000</td>\n",
       "      <td>1506249360</td>\n",
       "      <td>Action</td>\n",
       "      <td>Crime</td>\n",
       "      <td>Thriller</td>\n",
       "      <td>None</td>\n",
       "      <td>None</td>\n",
       "    </tr>\n",
       "  </tbody>\n",
       "</table>\n",
       "</div>"
      ],
      "text/plain": [
       "   popularity                                     genres  \\\n",
       "0   32.985763  Action|Adventure|Science Fiction|Thriller   \n",
       "1   28.419936  Action|Adventure|Science Fiction|Thriller   \n",
       "2   13.112507         Adventure|Science Fiction|Thriller   \n",
       "3   11.173104   Action|Adventure|Science Fiction|Fantasy   \n",
       "4    9.335014                      Action|Crime|Thriller   \n",
       "\n",
       "                                                cast          director  \\\n",
       "0  Chris Pratt|Bryce Dallas Howard|Irrfan Khan|Vi...   Colin Trevorrow   \n",
       "1  Tom Hardy|Charlize Theron|Hugh Keays-Byrne|Nic...     George Miller   \n",
       "2  Shailene Woodley|Theo James|Kate Winslet|Ansel...  Robert Schwentke   \n",
       "3  Harrison Ford|Mark Hamill|Carrie Fisher|Adam D...       J.J. Abrams   \n",
       "4  Vin Diesel|Paul Walker|Jason Statham|Michelle ...         James Wan   \n",
       "\n",
       "   vote_count  vote_average  release_year    budget_adj   revenue_adj  \\\n",
       "0        5562           6.5          2015  1.379999e+08  1.392446e+09   \n",
       "1        6185           7.1          2015  1.379999e+08  3.481613e+08   \n",
       "2        2480           6.3          2015  1.012000e+08  2.716190e+08   \n",
       "3        5292           7.5          2015  1.839999e+08  1.902723e+09   \n",
       "4        2947           7.3          2015  1.747999e+08  1.385749e+09   \n",
       "\n",
       "      budget     revenue         g1               g2               g3  \\\n",
       "0  150000000  1513528810     Action        Adventure  Science Fiction   \n",
       "1  150000000   378436354     Action        Adventure  Science Fiction   \n",
       "2  110000000   295238201  Adventure  Science Fiction         Thriller   \n",
       "3  200000000  2068178225     Action        Adventure  Science Fiction   \n",
       "4  190000000  1506249360     Action            Crime         Thriller   \n",
       "\n",
       "         g4    g5  \n",
       "0  Thriller  None  \n",
       "1  Thriller  None  \n",
       "2      None  None  \n",
       "3   Fantasy  None  \n",
       "4      None  None  "
      ]
     },
     "execution_count": 20,
     "metadata": {},
     "output_type": "execute_result"
    }
   ],
   "source": [
    "# 按照index，合并df_1和df_gen\n",
    "\n",
    "df_result = df_1.join(df_gen, how='outer')  \n",
    "df_result.head()"
   ]
  },
  {
   "cell_type": "code",
   "execution_count": 21,
   "metadata": {},
   "outputs": [
    {
     "data": {
      "text/plain": [
       "popularity          0\n",
       "genres              0\n",
       "cast               75\n",
       "director           42\n",
       "vote_count          0\n",
       "vote_average        0\n",
       "release_year        0\n",
       "budget_adj          0\n",
       "revenue_adj         0\n",
       "budget              0\n",
       "revenue             0\n",
       "g1                  0\n",
       "g2               2328\n",
       "g3               5764\n",
       "g4               8862\n",
       "g5              10301\n",
       "dtype: int64"
      ]
     },
     "execution_count": 21,
     "metadata": {},
     "output_type": "execute_result"
    }
   ],
   "source": [
    "df_result.isna().sum()"
   ]
  },
  {
   "cell_type": "code",
   "execution_count": 22,
   "metadata": {
    "scrolled": true
   },
   "outputs": [
    {
     "data": {
      "text/html": [
       "<div>\n",
       "<style scoped>\n",
       "    .dataframe tbody tr th:only-of-type {\n",
       "        vertical-align: middle;\n",
       "    }\n",
       "\n",
       "    .dataframe tbody tr th {\n",
       "        vertical-align: top;\n",
       "    }\n",
       "\n",
       "    .dataframe thead th {\n",
       "        text-align: right;\n",
       "    }\n",
       "</style>\n",
       "<table border=\"1\" class=\"dataframe\">\n",
       "  <thead>\n",
       "    <tr style=\"text-align: right;\">\n",
       "      <th></th>\n",
       "      <th>popularity</th>\n",
       "      <th>variable</th>\n",
       "      <th>genre</th>\n",
       "    </tr>\n",
       "  </thead>\n",
       "  <tbody>\n",
       "    <tr>\n",
       "      <th>0</th>\n",
       "      <td>32.985763</td>\n",
       "      <td>g1</td>\n",
       "      <td>Action</td>\n",
       "    </tr>\n",
       "    <tr>\n",
       "      <th>1</th>\n",
       "      <td>28.419936</td>\n",
       "      <td>g1</td>\n",
       "      <td>Action</td>\n",
       "    </tr>\n",
       "    <tr>\n",
       "      <th>2</th>\n",
       "      <td>13.112507</td>\n",
       "      <td>g1</td>\n",
       "      <td>Adventure</td>\n",
       "    </tr>\n",
       "    <tr>\n",
       "      <th>3</th>\n",
       "      <td>11.173104</td>\n",
       "      <td>g1</td>\n",
       "      <td>Action</td>\n",
       "    </tr>\n",
       "    <tr>\n",
       "      <th>4</th>\n",
       "      <td>9.335014</td>\n",
       "      <td>g1</td>\n",
       "      <td>Action</td>\n",
       "    </tr>\n",
       "  </tbody>\n",
       "</table>\n",
       "</div>"
      ],
      "text/plain": [
       "   popularity variable      genre\n",
       "0   32.985763       g1     Action\n",
       "1   28.419936       g1     Action\n",
       "2   13.112507       g1  Adventure\n",
       "3   11.173104       g1     Action\n",
       "4    9.335014       g1     Action"
      ]
     },
     "execution_count": 22,
     "metadata": {},
     "output_type": "execute_result"
    }
   ],
   "source": [
    "# 用melt函数，将 g1至g5 列的电影类型，转到一列里。并使其与对应的poppularity对应\n",
    "\n",
    "df_pop_genre = df_result.melt(id_vars=['popularity'],value_vars=['g1','g2','g3','g4','g5'], value_name='genre')\n",
    "df_pop_genre.head()"
   ]
  },
  {
   "cell_type": "code",
   "execution_count": 23,
   "metadata": {
    "scrolled": true
   },
   "outputs": [
    {
     "data": {
      "text/html": [
       "<div>\n",
       "<style scoped>\n",
       "    .dataframe tbody tr th:only-of-type {\n",
       "        vertical-align: middle;\n",
       "    }\n",
       "\n",
       "    .dataframe tbody tr th {\n",
       "        vertical-align: top;\n",
       "    }\n",
       "\n",
       "    .dataframe thead th {\n",
       "        text-align: right;\n",
       "    }\n",
       "</style>\n",
       "<table border=\"1\" class=\"dataframe\">\n",
       "  <thead>\n",
       "    <tr style=\"text-align: right;\">\n",
       "      <th></th>\n",
       "      <th>popularity</th>\n",
       "    </tr>\n",
       "    <tr>\n",
       "      <th>genre</th>\n",
       "      <th></th>\n",
       "    </tr>\n",
       "  </thead>\n",
       "  <tbody>\n",
       "    <tr>\n",
       "      <th>Adventure</th>\n",
       "      <td>1.154259</td>\n",
       "    </tr>\n",
       "    <tr>\n",
       "      <th>Science Fiction</th>\n",
       "      <td>1.001548</td>\n",
       "    </tr>\n",
       "    <tr>\n",
       "      <th>Fantasy</th>\n",
       "      <td>0.992840</td>\n",
       "    </tr>\n",
       "    <tr>\n",
       "      <th>Action</th>\n",
       "      <td>0.926274</td>\n",
       "    </tr>\n",
       "    <tr>\n",
       "      <th>Animation</th>\n",
       "      <td>0.852182</td>\n",
       "    </tr>\n",
       "  </tbody>\n",
       "</table>\n",
       "</div>"
      ],
      "text/plain": [
       "                 popularity\n",
       "genre                      \n",
       "Adventure          1.154259\n",
       "Science Fiction    1.001548\n",
       "Fantasy            0.992840\n",
       "Action             0.926274\n",
       "Animation          0.852182"
      ]
     },
     "execution_count": 23,
     "metadata": {},
     "output_type": "execute_result"
    }
   ],
   "source": [
    "# 按照genre的类别，分类，并计算每一类别的mean，按照降序排序\n",
    "\n",
    "df_end = df_pop_genre.groupby('genre').mean().sort_values(by='popularity',ascending=False)\n",
    "df_end.head()"
   ]
  },
  {
   "cell_type": "markdown",
   "metadata": {},
   "source": [
    ">得到不同类型电影的受欢迎程度"
   ]
  },
  {
   "cell_type": "code",
   "execution_count": 24,
   "metadata": {},
   "outputs": [
    {
     "data": {
      "image/png": "[encoded data removed]",
      "text/plain": [
       "<Figure size 432x288 with 1 Axes>"
      ]
     },
     "metadata": {},
     "output_type": "display_data"
    }
   ],
   "source": [
    "# 绘制电影配别和流行度的柱状图\n",
    "\n",
    "df_end.plot(kind='bar')\n",
    "plt.ylabel('popularity')\n",
    "plt.title('Relation between Popularity and Genre');"
   ]
  },
  {
   "cell_type": "markdown",
   "metadata": {},
   "source": [
    "## 研究问题 2  影响票房的因素"
   ]
  },
  {
   "cell_type": "code",
   "execution_count": 25,
   "metadata": {},
   "outputs": [
    {
     "data": {
      "text/plain": [
       "popularity      0\n",
       "genres          0\n",
       "cast            0\n",
       "director        0\n",
       "vote_count      0\n",
       "vote_average    0\n",
       "release_year    0\n",
       "budget_adj      0\n",
       "revenue_adj     0\n",
       "budget          0\n",
       "revenue         0\n",
       "dtype: int64"
      ]
     },
     "execution_count": 25,
     "metadata": {},
     "output_type": "execute_result"
    }
   ],
   "source": [
    "# 请继续探索数据，解决你额外的研究问题。\n",
    "#   如果有其它问题要调查，\n",
    "#   请根据需要添加更多标题。\n",
    "\n",
    "df_2.isna().sum()  # 用df_2来研究问题二， 查看是否还有缺失值"
   ]
  },
  {
   "cell_type": "markdown",
   "metadata": {},
   "source": [
    "##   Q1 时间对票房的影响"
   ]
  },
  {
   "cell_type": "code",
   "execution_count": 26,
   "metadata": {
    "scrolled": true
   },
   "outputs": [
    {
     "data": {
      "text/html": [
       "<div>\n",
       "<style scoped>\n",
       "    .dataframe tbody tr th:only-of-type {\n",
       "        vertical-align: middle;\n",
       "    }\n",
       "\n",
       "    .dataframe tbody tr th {\n",
       "        vertical-align: top;\n",
       "    }\n",
       "\n",
       "    .dataframe thead th {\n",
       "        text-align: right;\n",
       "    }\n",
       "</style>\n",
       "<table border=\"1\" class=\"dataframe\">\n",
       "  <thead>\n",
       "    <tr style=\"text-align: right;\">\n",
       "      <th></th>\n",
       "      <th>release_year</th>\n",
       "      <th>popularity</th>\n",
       "      <th>vote_count</th>\n",
       "      <th>vote_average</th>\n",
       "      <th>budget_adj</th>\n",
       "      <th>revenue_adj</th>\n",
       "      <th>budget</th>\n",
       "      <th>revenue</th>\n",
       "    </tr>\n",
       "  </thead>\n",
       "  <tbody>\n",
       "    <tr>\n",
       "      <th>0</th>\n",
       "      <td>1960</td>\n",
       "      <td>0.458932</td>\n",
       "      <td>77.531250</td>\n",
       "      <td>6.325000</td>\n",
       "      <td>5.082036e+06</td>\n",
       "      <td>3.340991e+07</td>\n",
       "      <td>6.892796e+05</td>\n",
       "      <td>4.531406e+06</td>\n",
       "    </tr>\n",
       "    <tr>\n",
       "      <th>1</th>\n",
       "      <td>1961</td>\n",
       "      <td>0.422827</td>\n",
       "      <td>77.580645</td>\n",
       "      <td>6.374194</td>\n",
       "      <td>1.085687e+07</td>\n",
       "      <td>7.947167e+07</td>\n",
       "      <td>1.488290e+06</td>\n",
       "      <td>1.089420e+07</td>\n",
       "    </tr>\n",
       "    <tr>\n",
       "      <th>2</th>\n",
       "      <td>1962</td>\n",
       "      <td>0.454783</td>\n",
       "      <td>74.750000</td>\n",
       "      <td>6.343750</td>\n",
       "      <td>1.232693e+07</td>\n",
       "      <td>4.856238e+07</td>\n",
       "      <td>1.710066e+06</td>\n",
       "      <td>6.736870e+06</td>\n",
       "    </tr>\n",
       "    <tr>\n",
       "      <th>3</th>\n",
       "      <td>1963</td>\n",
       "      <td>0.502706</td>\n",
       "      <td>82.823529</td>\n",
       "      <td>6.329412</td>\n",
       "      <td>1.535687e+07</td>\n",
       "      <td>3.924580e+07</td>\n",
       "      <td>2.156809e+06</td>\n",
       "      <td>5.511911e+06</td>\n",
       "    </tr>\n",
       "    <tr>\n",
       "      <th>4</th>\n",
       "      <td>1964</td>\n",
       "      <td>0.412428</td>\n",
       "      <td>74.690476</td>\n",
       "      <td>6.211905</td>\n",
       "      <td>6.608980e+06</td>\n",
       "      <td>5.707603e+07</td>\n",
       "      <td>9.400753e+05</td>\n",
       "      <td>8.118614e+06</td>\n",
       "    </tr>\n",
       "  </tbody>\n",
       "</table>\n",
       "</div>"
      ],
      "text/plain": [
       "   release_year  popularity  vote_count  vote_average    budget_adj  \\\n",
       "0          1960    0.458932   77.531250      6.325000  5.082036e+06   \n",
       "1          1961    0.422827   77.580645      6.374194  1.085687e+07   \n",
       "2          1962    0.454783   74.750000      6.343750  1.232693e+07   \n",
       "3          1963    0.502706   82.823529      6.329412  1.535687e+07   \n",
       "4          1964    0.412428   74.690476      6.211905  6.608980e+06   \n",
       "\n",
       "    revenue_adj        budget       revenue  \n",
       "0  3.340991e+07  6.892796e+05  4.531406e+06  \n",
       "1  7.947167e+07  1.488290e+06  1.089420e+07  \n",
       "2  4.856238e+07  1.710066e+06  6.736870e+06  \n",
       "3  3.924580e+07  2.156809e+06  5.511911e+06  \n",
       "4  5.707603e+07  9.400753e+05  8.118614e+06  "
      ]
     },
     "execution_count": 26,
     "metadata": {},
     "output_type": "execute_result"
    }
   ],
   "source": [
    "# 将df_2按照发行年分分类，计算每年票房的平均值\n",
    "\n",
    "df_year_mean = df_2.groupby('release_year',as_index=False).mean()\n",
    "df_year_mean.head()"
   ]
  },
  {
   "cell_type": "code",
   "execution_count": 27,
   "metadata": {
    "scrolled": true
   },
   "outputs": [
    {
     "data": {
      "text/html": [
       "<div>\n",
       "<style scoped>\n",
       "    .dataframe tbody tr th:only-of-type {\n",
       "        vertical-align: middle;\n",
       "    }\n",
       "\n",
       "    .dataframe tbody tr th {\n",
       "        vertical-align: top;\n",
       "    }\n",
       "\n",
       "    .dataframe thead th {\n",
       "        text-align: right;\n",
       "    }\n",
       "</style>\n",
       "<table border=\"1\" class=\"dataframe\">\n",
       "  <thead>\n",
       "    <tr style=\"text-align: right;\">\n",
       "      <th></th>\n",
       "      <th>release_year</th>\n",
       "      <th>popularity</th>\n",
       "      <th>vote_count</th>\n",
       "      <th>vote_average</th>\n",
       "      <th>budget_adj</th>\n",
       "      <th>revenue_adj</th>\n",
       "      <th>budget</th>\n",
       "      <th>revenue</th>\n",
       "    </tr>\n",
       "  </thead>\n",
       "  <tbody>\n",
       "    <tr>\n",
       "      <th>0</th>\n",
       "      <td>1960</td>\n",
       "      <td>0.268273</td>\n",
       "      <td>16.0</td>\n",
       "      <td>6.25</td>\n",
       "      <td>0.0</td>\n",
       "      <td>0.0</td>\n",
       "      <td>0.0</td>\n",
       "      <td>0.0</td>\n",
       "    </tr>\n",
       "    <tr>\n",
       "      <th>1</th>\n",
       "      <td>1961</td>\n",
       "      <td>0.265092</td>\n",
       "      <td>18.0</td>\n",
       "      <td>6.30</td>\n",
       "      <td>0.0</td>\n",
       "      <td>0.0</td>\n",
       "      <td>0.0</td>\n",
       "      <td>0.0</td>\n",
       "    </tr>\n",
       "    <tr>\n",
       "      <th>2</th>\n",
       "      <td>1962</td>\n",
       "      <td>0.299075</td>\n",
       "      <td>17.5</td>\n",
       "      <td>6.45</td>\n",
       "      <td>0.0</td>\n",
       "      <td>0.0</td>\n",
       "      <td>0.0</td>\n",
       "      <td>0.0</td>\n",
       "    </tr>\n",
       "    <tr>\n",
       "      <th>3</th>\n",
       "      <td>1963</td>\n",
       "      <td>0.249940</td>\n",
       "      <td>22.0</td>\n",
       "      <td>6.35</td>\n",
       "      <td>0.0</td>\n",
       "      <td>0.0</td>\n",
       "      <td>0.0</td>\n",
       "      <td>0.0</td>\n",
       "    </tr>\n",
       "    <tr>\n",
       "      <th>4</th>\n",
       "      <td>1964</td>\n",
       "      <td>0.194472</td>\n",
       "      <td>15.5</td>\n",
       "      <td>6.40</td>\n",
       "      <td>0.0</td>\n",
       "      <td>0.0</td>\n",
       "      <td>0.0</td>\n",
       "      <td>0.0</td>\n",
       "    </tr>\n",
       "  </tbody>\n",
       "</table>\n",
       "</div>"
      ],
      "text/plain": [
       "   release_year  popularity  vote_count  vote_average  budget_adj  \\\n",
       "0          1960    0.268273        16.0          6.25         0.0   \n",
       "1          1961    0.265092        18.0          6.30         0.0   \n",
       "2          1962    0.299075        17.5          6.45         0.0   \n",
       "3          1963    0.249940        22.0          6.35         0.0   \n",
       "4          1964    0.194472        15.5          6.40         0.0   \n",
       "\n",
       "   revenue_adj  budget  revenue  \n",
       "0          0.0     0.0      0.0  \n",
       "1          0.0     0.0      0.0  \n",
       "2          0.0     0.0      0.0  \n",
       "3          0.0     0.0      0.0  \n",
       "4          0.0     0.0      0.0  "
      ]
     },
     "execution_count": 27,
     "metadata": {},
     "output_type": "execute_result"
    }
   ],
   "source": [
    "# 将df_2按照发行年分分类，计算每年票房的中位数\n",
    "\n",
    "df_year_median = df_2.groupby('release_year',as_index=False).median()\n",
    "df_year_median.head()"
   ]
  },
  {
   "cell_type": "code",
   "execution_count": 28,
   "metadata": {},
   "outputs": [
    {
     "data": {
      "text/plain": [
       "Text(0.5,1,'Median Revenue with Time')"
      ]
     },
     "execution_count": 28,
     "metadata": {},
     "output_type": "execute_result"
    },
    {
     "data": {
      "image/png": "[encoded data removed]",
      "text/plain": [
       "<Figure size 1440x576 with 2 Axes>"
      ]
     },
     "metadata": {},
     "output_type": "display_data"
    }
   ],
   "source": [
    "# 绘制票房的平均数和中位数，随着时间的变化\n",
    "\n",
    "fig = plt.figure(figsize=(20,8)) #创建画布\n",
    "\n",
    "ax1 = fig.add_subplot(121)       # 在画布上创建 第一幅图\n",
    "x1 = df_year_mean.release_year\n",
    "y1 = df_year_mean.revenue_adj\n",
    "ax1.scatter(x1, y1,label='revenue_adj')   # 在第一幅图上画每年的票房平均值\n",
    "\n",
    "#ax2 = fig.add_subplot(121)\n",
    "x2 = df_year_mean.release_year\n",
    "y2 = df_year_mean.revenue\n",
    "ax1.scatter(x2, y2, label='revenue')    # 在第一幅图上画每年的票房，经过通货膨胀调整后的平均值\n",
    "\n",
    "ax2 = fig.add_subplot(122)   # 在画布上创建 第二幅图\n",
    "x3 = df_year_median.release_year\n",
    "y3 = df_year_median.revenue_adj\n",
    "ax2.scatter(x3, y3,label='revenue_adj')   # 在第二幅图上画每年的票房 中位数值 \n",
    "\n",
    "#ax4 = fig.add_subplot(122)\n",
    "x4 = df_year_median.release_year\n",
    "y4 = df_year_median.revenue\n",
    "ax2.scatter(x4, y4, label='revenue')    # 在第二幅图上画每年的票房，经过通货膨胀调整后的中位数值\n",
    "\n",
    "ax1.legend()\n",
    "ax2.legend()\n",
    "ax1.set_xlabel('time',fontsize = 17)\n",
    "ax2.set_xlabel('time',fontsize = 17)\n",
    "ax1.set_ylabel('mean',fontsize = 17)\n",
    "ax2.set_ylabel('median',fontsize = 17)\n",
    "ax1.set_title('Mean Revenue with Time',fontsize = 20)\n",
    "ax2.set_title('Median Revenue with Time',fontsize = 20)"
   ]
  },
  {
   "cell_type": "markdown",
   "metadata": {},
   "source": [
    "><li>随着时间变化，票房有显著增加。</li>\n",
    "<li>经过通货膨胀调整后的票房，可以减少时间上的影响</li>\n",
    "<li>票房中位数显示出，除了1980年至2006年，其他时候有一半的电影的票房为0</li>  \n",
    "\n",
    ">为了排除时间对票房的影响，接下来的分析，使用revenue_adj"
   ]
  },
  {
   "cell_type": "markdown",
   "metadata": {},
   "source": [
    "## Q2 通货膨胀后的票房与受欢迎程度的关系"
   ]
  },
  {
   "cell_type": "code",
   "execution_count": 29,
   "metadata": {},
   "outputs": [
    {
     "data": {
      "text/html": [
       "<div>\n",
       "<style scoped>\n",
       "    .dataframe tbody tr th:only-of-type {\n",
       "        vertical-align: middle;\n",
       "    }\n",
       "\n",
       "    .dataframe tbody tr th {\n",
       "        vertical-align: top;\n",
       "    }\n",
       "\n",
       "    .dataframe thead th {\n",
       "        text-align: right;\n",
       "    }\n",
       "</style>\n",
       "<table border=\"1\" class=\"dataframe\">\n",
       "  <thead>\n",
       "    <tr style=\"text-align: right;\">\n",
       "      <th></th>\n",
       "      <th>popularity</th>\n",
       "      <th>vote_count</th>\n",
       "      <th>vote_average</th>\n",
       "      <th>release_year</th>\n",
       "      <th>budget_adj</th>\n",
       "      <th>revenue_adj</th>\n",
       "      <th>budget</th>\n",
       "      <th>revenue</th>\n",
       "    </tr>\n",
       "    <tr>\n",
       "      <th>pop_level</th>\n",
       "      <th></th>\n",
       "      <th></th>\n",
       "      <th></th>\n",
       "      <th></th>\n",
       "      <th></th>\n",
       "      <th></th>\n",
       "      <th></th>\n",
       "      <th></th>\n",
       "    </tr>\n",
       "  </thead>\n",
       "  <tbody>\n",
       "    <tr>\n",
       "      <th>E</th>\n",
       "      <td>0.103252</td>\n",
       "      <td>25.890545</td>\n",
       "      <td>5.862413</td>\n",
       "      <td>2001.003726</td>\n",
       "      <td>2.543715e+06</td>\n",
       "      <td>4.299444e+06</td>\n",
       "      <td>1.805579e+06</td>\n",
       "      <td>2.544872e+06</td>\n",
       "    </tr>\n",
       "    <tr>\n",
       "      <th>D</th>\n",
       "      <td>0.243161</td>\n",
       "      <td>34.209226</td>\n",
       "      <td>5.819664</td>\n",
       "      <td>2000.054986</td>\n",
       "      <td>5.656976e+06</td>\n",
       "      <td>7.105963e+06</td>\n",
       "      <td>3.989794e+06</td>\n",
       "      <td>4.160329e+06</td>\n",
       "    </tr>\n",
       "    <tr>\n",
       "      <th>C</th>\n",
       "      <td>0.390415</td>\n",
       "      <td>55.355545</td>\n",
       "      <td>5.818034</td>\n",
       "      <td>2000.642125</td>\n",
       "      <td>8.982445e+06</td>\n",
       "      <td>1.556249e+07</td>\n",
       "      <td>6.803144e+06</td>\n",
       "      <td>9.533601e+06</td>\n",
       "    </tr>\n",
       "    <tr>\n",
       "      <th>B</th>\n",
       "      <td>0.637673</td>\n",
       "      <td>134.355079</td>\n",
       "      <td>5.988211</td>\n",
       "      <td>2001.061976</td>\n",
       "      <td>1.901876e+07</td>\n",
       "      <td>3.929613e+07</td>\n",
       "      <td>1.508401e+07</td>\n",
       "      <td>2.783124e+07</td>\n",
       "    </tr>\n",
       "    <tr>\n",
       "      <th>A</th>\n",
       "      <td>1.888829</td>\n",
       "      <td>849.344828</td>\n",
       "      <td>6.335275</td>\n",
       "      <td>2003.535415</td>\n",
       "      <td>5.263172e+07</td>\n",
       "      <td>1.937893e+08</td>\n",
       "      <td>4.634176e+07</td>\n",
       "      <td>1.575470e+08</td>\n",
       "    </tr>\n",
       "  </tbody>\n",
       "</table>\n",
       "</div>"
      ],
      "text/plain": [
       "           popularity  vote_count  vote_average  release_year    budget_adj  \\\n",
       "pop_level                                                                     \n",
       "E            0.103252   25.890545      5.862413   2001.003726  2.543715e+06   \n",
       "D            0.243161   34.209226      5.819664   2000.054986  5.656976e+06   \n",
       "C            0.390415   55.355545      5.818034   2000.642125  8.982445e+06   \n",
       "B            0.637673  134.355079      5.988211   2001.061976  1.901876e+07   \n",
       "A            1.888829  849.344828      6.335275   2003.535415  5.263172e+07   \n",
       "\n",
       "            revenue_adj        budget       revenue  \n",
       "pop_level                                            \n",
       "E          4.299444e+06  1.805579e+06  2.544872e+06  \n",
       "D          7.105963e+06  3.989794e+06  4.160329e+06  \n",
       "C          1.556249e+07  6.803144e+06  9.533601e+06  \n",
       "B          3.929613e+07  1.508401e+07  2.783124e+07  \n",
       "A          1.937893e+08  4.634176e+07  1.575470e+08  "
      ]
     },
     "execution_count": 29,
     "metadata": {},
     "output_type": "execute_result"
    }
   ],
   "source": [
    "# 增加一列‘pop_level’  将popularity数值分为5档，分别是 ABCDE\n",
    "\n",
    "df_2['pop_level'] = pd.qcut(df_2.popularity,[0,0.2,0.4,0.6,0.8,1],['E','D','C','B','A'])\n",
    "\n",
    "# 将df_2 按照‘pop_level’ 分类\n",
    "\n",
    "df_pop_level = df_2.groupby('pop_level').mean()\n",
    "\n",
    "df_pop_level"
   ]
  },
  {
   "cell_type": "code",
   "execution_count": 30,
   "metadata": {},
   "outputs": [
    {
     "data": {
      "image/png": "[encoded data removed]",
      "text/plain": [
       "<Figure size 432x288 with 1 Axes>"
      ]
     },
     "metadata": {},
     "output_type": "display_data"
    }
   ],
   "source": [
    "# 绘制不同受欢迎程度，对应的票房平均值\n",
    "\n",
    "df_pop_level.revenue_adj.plot(kind='bar')\n",
    "plt.ylabel('Average Revenue_adj')\n",
    "plt.title('Average Revenue_adj by Popularity Level')\n",
    "plt.xlabel('Popularity Level');"
   ]
  },
  {
   "cell_type": "markdown",
   "metadata": {},
   "source": [
    ">**在不受时间影响下，越受欢迎的电影，票房越高**"
   ]
  },
  {
   "cell_type": "markdown",
   "metadata": {},
   "source": [
    "## Q3 评分与票房的关系"
   ]
  },
  {
   "cell_type": "code",
   "execution_count": 31,
   "metadata": {},
   "outputs": [
    {
     "data": {
      "text/plain": [
       "count    10731.000000\n",
       "mean         5.964710\n",
       "std          0.930283\n",
       "min          1.500000\n",
       "25%          5.400000\n",
       "50%          6.000000\n",
       "75%          6.600000\n",
       "max          9.200000\n",
       "Name: vote_average, dtype: float64"
      ]
     },
     "execution_count": 31,
     "metadata": {},
     "output_type": "execute_result"
    }
   ],
   "source": [
    "#查看 评分 的打分 分布\n",
    "\n",
    "df_2.vote_average.describe()"
   ]
  },
  {
   "cell_type": "code",
   "execution_count": 32,
   "metadata": {},
   "outputs": [
    {
     "data": {
      "text/plain": [
       "<matplotlib.axes._subplots.AxesSubplot at 0x1d93d977400>"
      ]
     },
     "execution_count": 32,
     "metadata": {},
     "output_type": "execute_result"
    },
    {
     "data": {
      "image/png": "[encoded data removed]",
      "text/plain": [
       "<Figure size 432x288 with 1 Axes>"
      ]
     },
     "metadata": {},
     "output_type": "display_data"
    }
   ],
   "source": [
    "# 查看评分的频数分布图\n",
    "\n",
    "df_2.vote_average.hist()"
   ]
  },
  {
   "cell_type": "markdown",
   "metadata": {},
   "source": [
    ">**大部分的评分都在5-7分之间**"
   ]
  },
  {
   "cell_type": "code",
   "execution_count": 33,
   "metadata": {},
   "outputs": [
    {
     "data": {
      "text/html": [
       "<div>\n",
       "<style scoped>\n",
       "    .dataframe tbody tr th:only-of-type {\n",
       "        vertical-align: middle;\n",
       "    }\n",
       "\n",
       "    .dataframe tbody tr th {\n",
       "        vertical-align: top;\n",
       "    }\n",
       "\n",
       "    .dataframe thead th {\n",
       "        text-align: right;\n",
       "    }\n",
       "</style>\n",
       "<table border=\"1\" class=\"dataframe\">\n",
       "  <thead>\n",
       "    <tr style=\"text-align: right;\">\n",
       "      <th></th>\n",
       "      <th>popularity</th>\n",
       "      <th>vote_count</th>\n",
       "      <th>vote_average</th>\n",
       "      <th>release_year</th>\n",
       "      <th>budget_adj</th>\n",
       "      <th>revenue_adj</th>\n",
       "      <th>budget</th>\n",
       "      <th>revenue</th>\n",
       "    </tr>\n",
       "    <tr>\n",
       "      <th>vote_level</th>\n",
       "      <th></th>\n",
       "      <th></th>\n",
       "      <th></th>\n",
       "      <th></th>\n",
       "      <th></th>\n",
       "      <th></th>\n",
       "      <th></th>\n",
       "      <th></th>\n",
       "    </tr>\n",
       "  </thead>\n",
       "  <tbody>\n",
       "    <tr>\n",
       "      <th>E</th>\n",
       "      <td>0.078773</td>\n",
       "      <td>12.666667</td>\n",
       "      <td>1.666667</td>\n",
       "      <td>1995.000000</td>\n",
       "      <td>4.254743e+04</td>\n",
       "      <td>0.000000e+00</td>\n",
       "      <td>6.333333e+03</td>\n",
       "      <td>0.000000e+00</td>\n",
       "    </tr>\n",
       "    <tr>\n",
       "      <th>D</th>\n",
       "      <td>0.310117</td>\n",
       "      <td>27.507740</td>\n",
       "      <td>3.522291</td>\n",
       "      <td>2006.340557</td>\n",
       "      <td>5.851302e+06</td>\n",
       "      <td>3.507401e+06</td>\n",
       "      <td>4.914485e+06</td>\n",
       "      <td>2.601555e+06</td>\n",
       "    </tr>\n",
       "    <tr>\n",
       "      <th>C</th>\n",
       "      <td>0.498147</td>\n",
       "      <td>109.856345</td>\n",
       "      <td>5.367360</td>\n",
       "      <td>2002.442904</td>\n",
       "      <td>1.583082e+07</td>\n",
       "      <td>3.008111e+07</td>\n",
       "      <td>1.342637e+07</td>\n",
       "      <td>2.491031e+07</td>\n",
       "    </tr>\n",
       "    <tr>\n",
       "      <th>B</th>\n",
       "      <td>0.823499</td>\n",
       "      <td>336.128289</td>\n",
       "      <td>6.700232</td>\n",
       "      <td>1999.744582</td>\n",
       "      <td>2.050655e+07</td>\n",
       "      <td>7.667115e+07</td>\n",
       "      <td>1.685967e+07</td>\n",
       "      <td>5.801393e+07</td>\n",
       "    </tr>\n",
       "    <tr>\n",
       "      <th>A</th>\n",
       "      <td>1.365550</td>\n",
       "      <td>961.250000</td>\n",
       "      <td>8.297727</td>\n",
       "      <td>2002.681818</td>\n",
       "      <td>1.277436e+07</td>\n",
       "      <td>1.022336e+08</td>\n",
       "      <td>9.468184e+06</td>\n",
       "      <td>6.039041e+07</td>\n",
       "    </tr>\n",
       "  </tbody>\n",
       "</table>\n",
       "</div>"
      ],
      "text/plain": [
       "            popularity  vote_count  vote_average  release_year    budget_adj  \\\n",
       "vote_level                                                                     \n",
       "E             0.078773   12.666667      1.666667   1995.000000  4.254743e+04   \n",
       "D             0.310117   27.507740      3.522291   2006.340557  5.851302e+06   \n",
       "C             0.498147  109.856345      5.367360   2002.442904  1.583082e+07   \n",
       "B             0.823499  336.128289      6.700232   1999.744582  2.050655e+07   \n",
       "A             1.365550  961.250000      8.297727   2002.681818  1.277436e+07   \n",
       "\n",
       "             revenue_adj        budget       revenue  \n",
       "vote_level                                            \n",
       "E           0.000000e+00  6.333333e+03  0.000000e+00  \n",
       "D           3.507401e+06  4.914485e+06  2.601555e+06  \n",
       "C           3.008111e+07  1.342637e+07  2.491031e+07  \n",
       "B           7.667115e+07  1.685967e+07  5.801393e+07  \n",
       "A           1.022336e+08  9.468184e+06  6.039041e+07  "
      ]
     },
     "execution_count": 33,
     "metadata": {},
     "output_type": "execute_result"
    }
   ],
   "source": [
    "# 将评分按照5个等级，分级 A B C D E\n",
    "\n",
    "df_2['vote_level'] = pd.cut(df_2.vote_average,[0,2,4,6,8,10],labels=['E','D','C','B','A'])\n",
    "\n",
    "df_vote_level = df_2.groupby('vote_level').mean()\n",
    "df_vote_level"
   ]
  },
  {
   "cell_type": "code",
   "execution_count": 34,
   "metadata": {},
   "outputs": [
    {
     "data": {
      "image/png": "[encoded data removed]",
      "text/plain": [
       "<Figure size 432x288 with 1 Axes>"
      ]
     },
     "metadata": {},
     "output_type": "display_data"
    }
   ],
   "source": [
    "#绘制不同等级的票房柱状图\n",
    "\n",
    "df_vote_level.revenue_adj.plot(kind='bar')\n",
    "plt.ylabel('Average Revenue_adj')\n",
    "plt.title('Average Revenue_adj by Vote Level')\n",
    "plt.xlabel('Vote Level');"
   ]
  },
  {
   "cell_type": "markdown",
   "metadata": {},
   "source": [
    ">**评分高，受欢迎高，票房就会高**"
   ]
  },
  {
   "cell_type": "markdown",
   "metadata": {},
   "source": [
    "## Q4 评分与受欢迎程度，哪个与票房关系更密切"
   ]
  },
  {
   "cell_type": "code",
   "execution_count": 35,
   "metadata": {},
   "outputs": [
    {
     "data": {
      "text/plain": [
       "Text(0.5,1,'Revenue_adj by Popularity and Vote_average')"
      ]
     },
     "execution_count": 35,
     "metadata": {},
     "output_type": "execute_result"
    },
    {
     "data": {
      "image/png": "[encoded data removed]",
      "text/plain": [
       "<Figure size 576x576 with 2 Axes>"
      ]
     },
     "metadata": {},
     "output_type": "display_data"
    }
   ],
   "source": [
    "# 绘制电影票房与评分和受欢迎程度的散点图\n",
    "\n",
    "fig = plt.figure(figsize=(8,8)) #创建画布\n",
    "y=df_2.revenue_adj\n",
    "x=df_2.popularity\n",
    "\n",
    "y1=df_2.revenue_adj\n",
    "x1=df_2.vote_average\n",
    "\n",
    "ax1 = fig.add_subplot(111)     #在画布上创建 第一幅图\n",
    "ax1.scatter(x1, y1, c='r',alpha=0.5,label='vote_average')\n",
    "ax1.set_yscale('log')\n",
    "plt.xlabel('Vote_average',fontsize=13)\n",
    "\n",
    "ax2 = ax1.twiny()             # 将第二幅图与第一幅图设置为共同的y轴\n",
    "ax2.scatter(x, y,alpha=0.5, label='pop')\n",
    "ax2.set_yscale('log')\n",
    "plt.ylim([1,1e10])\n",
    "plt.xlabel('Popularity',fontsize=13)\n",
    "\n",
    "ax1.set_ylabel('Revenue_adj',fontsize=13)\n",
    "ax2.legend(loc='upper left')\n",
    "ax1.legend(loc='upper right')\n",
    "ax1.set_title('Revenue_adj by Popularity and Vote_average',fontsize=15,pad=50.0)"
   ]
  },
  {
   "cell_type": "markdown",
   "metadata": {},
   "source": [
    ">**相对评分来说，电影票房与受欢迎程关系更密切**"
   ]
  },
  {
   "cell_type": "markdown",
   "metadata": {},
   "source": [
    "## Q5 导演 与票房 "
   ]
  },
  {
   "cell_type": "code",
   "execution_count": 37,
   "metadata": {
    "scrolled": true
   },
   "outputs": [
    {
     "data": {
      "text/html": [
       "<div>\n",
       "<style scoped>\n",
       "    .dataframe tbody tr th:only-of-type {\n",
       "        vertical-align: middle;\n",
       "    }\n",
       "\n",
       "    .dataframe tbody tr th {\n",
       "        vertical-align: top;\n",
       "    }\n",
       "\n",
       "    .dataframe thead th {\n",
       "        text-align: right;\n",
       "    }\n",
       "</style>\n",
       "<table border=\"1\" class=\"dataframe\">\n",
       "  <thead>\n",
       "    <tr style=\"text-align: right;\">\n",
       "      <th></th>\n",
       "      <th>popularity</th>\n",
       "      <th>vote_count</th>\n",
       "      <th>vote_average</th>\n",
       "      <th>release_year</th>\n",
       "      <th>budget_adj</th>\n",
       "      <th>revenue_adj</th>\n",
       "      <th>budget</th>\n",
       "      <th>revenue</th>\n",
       "    </tr>\n",
       "    <tr>\n",
       "      <th>director</th>\n",
       "      <th></th>\n",
       "      <th></th>\n",
       "      <th></th>\n",
       "      <th></th>\n",
       "      <th></th>\n",
       "      <th></th>\n",
       "      <th></th>\n",
       "      <th></th>\n",
       "    </tr>\n",
       "  </thead>\n",
       "  <tbody>\n",
       "    <tr>\n",
       "      <th>Clyde Geronimi|Hamilton Luske|Wolfgang Reitherman</th>\n",
       "      <td>2.631987</td>\n",
       "      <td>913.0</td>\n",
       "      <td>6.6</td>\n",
       "      <td>1961.0</td>\n",
       "      <td>2.917944e+07</td>\n",
       "      <td>1.574815e+09</td>\n",
       "      <td>4000000.0</td>\n",
       "      <td>2.158800e+08</td>\n",
       "    </tr>\n",
       "    <tr>\n",
       "      <th>Roger Allers|Rob Minkoff</th>\n",
       "      <td>4.782688</td>\n",
       "      <td>3489.0</td>\n",
       "      <td>7.7</td>\n",
       "      <td>1994.0</td>\n",
       "      <td>6.620002e+07</td>\n",
       "      <td>1.159592e+09</td>\n",
       "      <td>45000000.0</td>\n",
       "      <td>7.882418e+08</td>\n",
       "    </tr>\n",
       "    <tr>\n",
       "      <th>Kyle Balda|Pierre Coffin</th>\n",
       "      <td>7.404165</td>\n",
       "      <td>2893.0</td>\n",
       "      <td>6.5</td>\n",
       "      <td>2015.0</td>\n",
       "      <td>6.807997e+07</td>\n",
       "      <td>1.064192e+09</td>\n",
       "      <td>74000000.0</td>\n",
       "      <td>1.156731e+09</td>\n",
       "    </tr>\n",
       "    <tr>\n",
       "      <th>Lee Unkrich</th>\n",
       "      <td>2.711136</td>\n",
       "      <td>2924.0</td>\n",
       "      <td>7.5</td>\n",
       "      <td>2010.0</td>\n",
       "      <td>2.000000e+08</td>\n",
       "      <td>1.063172e+09</td>\n",
       "      <td>200000000.0</td>\n",
       "      <td>1.063172e+09</td>\n",
       "    </tr>\n",
       "    <tr>\n",
       "      <th>Andrew Adamson|Kelly Asbury|Conrad Vernon</th>\n",
       "      <td>2.191033</td>\n",
       "      <td>1676.0</td>\n",
       "      <td>6.5</td>\n",
       "      <td>2004.0</td>\n",
       "      <td>1.731668e+08</td>\n",
       "      <td>1.061904e+09</td>\n",
       "      <td>150000000.0</td>\n",
       "      <td>9.198388e+08</td>\n",
       "    </tr>\n",
       "  </tbody>\n",
       "</table>\n",
       "</div>"
      ],
      "text/plain": [
       "                                                   popularity  vote_count  \\\n",
       "director                                                                    \n",
       "Clyde Geronimi|Hamilton Luske|Wolfgang Reitherman    2.631987       913.0   \n",
       "Roger Allers|Rob Minkoff                             4.782688      3489.0   \n",
       "Kyle Balda|Pierre Coffin                             7.404165      2893.0   \n",
       "Lee Unkrich                                          2.711136      2924.0   \n",
       "Andrew Adamson|Kelly Asbury|Conrad Vernon            2.191033      1676.0   \n",
       "\n",
       "                                                   vote_average  release_year  \\\n",
       "director                                                                        \n",
       "Clyde Geronimi|Hamilton Luske|Wolfgang Reitherman           6.6        1961.0   \n",
       "Roger Allers|Rob Minkoff                                    7.7        1994.0   \n",
       "Kyle Balda|Pierre Coffin                                    6.5        2015.0   \n",
       "Lee Unkrich                                                 7.5        2010.0   \n",
       "Andrew Adamson|Kelly Asbury|Conrad Vernon                   6.5        2004.0   \n",
       "\n",
       "                                                     budget_adj   revenue_adj  \\\n",
       "director                                                                        \n",
       "Clyde Geronimi|Hamilton Luske|Wolfgang Reitherman  2.917944e+07  1.574815e+09   \n",
       "Roger Allers|Rob Minkoff                           6.620002e+07  1.159592e+09   \n",
       "Kyle Balda|Pierre Coffin                           6.807997e+07  1.064192e+09   \n",
       "Lee Unkrich                                        2.000000e+08  1.063172e+09   \n",
       "Andrew Adamson|Kelly Asbury|Conrad Vernon          1.731668e+08  1.061904e+09   \n",
       "\n",
       "                                                        budget       revenue  \n",
       "director                                                                      \n",
       "Clyde Geronimi|Hamilton Luske|Wolfgang Reitherman    4000000.0  2.158800e+08  \n",
       "Roger Allers|Rob Minkoff                            45000000.0  7.882418e+08  \n",
       "Kyle Balda|Pierre Coffin                            74000000.0  1.156731e+09  \n",
       "Lee Unkrich                                        200000000.0  1.063172e+09  \n",
       "Andrew Adamson|Kelly Asbury|Conrad Vernon          150000000.0  9.198388e+08  "
      ]
     },
     "execution_count": 37,
     "metadata": {},
     "output_type": "execute_result"
    }
   ],
   "source": [
    "df_2.groupby('director').mean().sort_values(by='revenue_adj',ascending=False).head()"
   ]
  },
  {
   "cell_type": "markdown",
   "metadata": {},
   "source": [
    ">**发现导演里面有字符'|'，有的电影里有多个导演**"
   ]
  },
  {
   "cell_type": "code",
   "execution_count": 38,
   "metadata": {
    "scrolled": true
   },
   "outputs": [
    {
     "data": {
      "text/plain": [
       "737"
      ]
     },
     "execution_count": 38,
     "metadata": {},
     "output_type": "execute_result"
    }
   ],
   "source": [
    "# 查看包含字符‘|’的导演的个数\n",
    "\n",
    "df_2['director'].str.contains('|',regex=False).sum()"
   ]
  },
  {
   "cell_type": "code",
   "execution_count": 39,
   "metadata": {},
   "outputs": [
    {
     "data": {
      "text/plain": [
       "Int64Index([    8,    11,    64,    85,   100,   132,   143,   144,   184,\n",
       "              214,\n",
       "            ...\n",
       "            10663, 10671, 10678, 10732, 10791, 10795, 10798, 10816, 10820,\n",
       "            10843],\n",
       "           dtype='int64', length=737)"
      ]
     },
     "execution_count": 39,
     "metadata": {},
     "output_type": "execute_result"
    }
   ],
   "source": [
    "# 把包含‘|’的行，提取出来\n",
    "\n",
    "df_multi_director = df_2[df_2['director'].str.contains('|',regex=False)]   # 选出df_2中导演并非一个的 电影\n",
    "df_multi_director.index"
   ]
  },
  {
   "cell_type": "code",
   "execution_count": 40,
   "metadata": {},
   "outputs": [
    {
     "name": "stderr",
     "output_type": "stream",
     "text": [
      "C:\\Users\\49071\\Anaconda3\\lib\\site-packages\\pandas\\core\\indexing.py:543: SettingWithCopyWarning: \n",
      "A value is trying to be set on a copy of a slice from a DataFrame.\n",
      "Try using .loc[row_indexer,col_indexer] = value instead\n",
      "\n",
      "See the caveats in the documentation: http://pandas.pydata.org/pandas-docs/stable/indexing.html#indexing-view-versus-copy\n",
      "  self.obj[item] = s\n"
     ]
    },
    {
     "data": {
      "text/html": [
       "<div>\n",
       "<style scoped>\n",
       "    .dataframe tbody tr th:only-of-type {\n",
       "        vertical-align: middle;\n",
       "    }\n",
       "\n",
       "    .dataframe tbody tr th {\n",
       "        vertical-align: top;\n",
       "    }\n",
       "\n",
       "    .dataframe thead th {\n",
       "        text-align: right;\n",
       "    }\n",
       "</style>\n",
       "<table border=\"1\" class=\"dataframe\">\n",
       "  <thead>\n",
       "    <tr style=\"text-align: right;\">\n",
       "      <th></th>\n",
       "      <th>popularity</th>\n",
       "      <th>genres</th>\n",
       "      <th>cast</th>\n",
       "      <th>director</th>\n",
       "      <th>vote_count</th>\n",
       "      <th>vote_average</th>\n",
       "      <th>release_year</th>\n",
       "      <th>budget_adj</th>\n",
       "      <th>revenue_adj</th>\n",
       "      <th>budget</th>\n",
       "      <th>revenue</th>\n",
       "      <th>pop_level</th>\n",
       "      <th>vote_level</th>\n",
       "    </tr>\n",
       "  </thead>\n",
       "  <tbody>\n",
       "    <tr>\n",
       "      <th>8</th>\n",
       "      <td>7.404165</td>\n",
       "      <td>Family|Animation|Adventure|Comedy</td>\n",
       "      <td>Sandra Bullock|Jon Hamm|Michael Keaton|Allison...</td>\n",
       "      <td>Kyle Balda</td>\n",
       "      <td>2893</td>\n",
       "      <td>6.5</td>\n",
       "      <td>2015</td>\n",
       "      <td>6.807997e+07</td>\n",
       "      <td>1.064192e+09</td>\n",
       "      <td>74000000</td>\n",
       "      <td>1156730962</td>\n",
       "      <td>A</td>\n",
       "      <td>B</td>\n",
       "    </tr>\n",
       "    <tr>\n",
       "      <th>11</th>\n",
       "      <td>6.189369</td>\n",
       "      <td>Science Fiction|Fantasy|Action|Adventure</td>\n",
       "      <td>Mila Kunis|Channing Tatum|Sean Bean|Eddie Redm...</td>\n",
       "      <td>Lana Wachowski</td>\n",
       "      <td>1937</td>\n",
       "      <td>5.2</td>\n",
       "      <td>2015</td>\n",
       "      <td>1.619199e+08</td>\n",
       "      <td>1.692686e+08</td>\n",
       "      <td>176000003</td>\n",
       "      <td>183987723</td>\n",
       "      <td>A</td>\n",
       "      <td>C</td>\n",
       "    </tr>\n",
       "    <tr>\n",
       "      <th>64</th>\n",
       "      <td>2.395366</td>\n",
       "      <td>Romance|Comedy|Crime|Drama</td>\n",
       "      <td>Will Smith|Margot Robbie|Rodrigo Santoro|Rober...</td>\n",
       "      <td>Glenn Ficarra</td>\n",
       "      <td>1831</td>\n",
       "      <td>6.7</td>\n",
       "      <td>2015</td>\n",
       "      <td>4.609198e+07</td>\n",
       "      <td>1.416459e+08</td>\n",
       "      <td>50100000</td>\n",
       "      <td>153962963</td>\n",
       "      <td>A</td>\n",
       "      <td>B</td>\n",
       "    </tr>\n",
       "    <tr>\n",
       "      <th>85</th>\n",
       "      <td>2.000338</td>\n",
       "      <td>Adventure|Comedy</td>\n",
       "      <td>Ed Helms|Christina Applegate|Skyler Gisondo|St...</td>\n",
       "      <td>John Francis Daley</td>\n",
       "      <td>846</td>\n",
       "      <td>6.1</td>\n",
       "      <td>2015</td>\n",
       "      <td>2.851999e+07</td>\n",
       "      <td>9.603341e+07</td>\n",
       "      <td>31000000</td>\n",
       "      <td>104384188</td>\n",
       "      <td>A</td>\n",
       "      <td>B</td>\n",
       "    </tr>\n",
       "    <tr>\n",
       "      <th>100</th>\n",
       "      <td>1.724712</td>\n",
       "      <td>Adventure|Animation|Family</td>\n",
       "      <td>Kristen Bell|Idina Menzel|Jonathan Groff|Josh ...</td>\n",
       "      <td>Chris Buck</td>\n",
       "      <td>475</td>\n",
       "      <td>7.0</td>\n",
       "      <td>2015</td>\n",
       "      <td>0.000000e+00</td>\n",
       "      <td>0.000000e+00</td>\n",
       "      <td>0</td>\n",
       "      <td>0</td>\n",
       "      <td>A</td>\n",
       "      <td>B</td>\n",
       "    </tr>\n",
       "  </tbody>\n",
       "</table>\n",
       "</div>"
      ],
      "text/plain": [
       "     popularity                                    genres  \\\n",
       "8      7.404165         Family|Animation|Adventure|Comedy   \n",
       "11     6.189369  Science Fiction|Fantasy|Action|Adventure   \n",
       "64     2.395366                Romance|Comedy|Crime|Drama   \n",
       "85     2.000338                          Adventure|Comedy   \n",
       "100    1.724712                Adventure|Animation|Family   \n",
       "\n",
       "                                                  cast            director  \\\n",
       "8    Sandra Bullock|Jon Hamm|Michael Keaton|Allison...          Kyle Balda   \n",
       "11   Mila Kunis|Channing Tatum|Sean Bean|Eddie Redm...      Lana Wachowski   \n",
       "64   Will Smith|Margot Robbie|Rodrigo Santoro|Rober...       Glenn Ficarra   \n",
       "85   Ed Helms|Christina Applegate|Skyler Gisondo|St...  John Francis Daley   \n",
       "100  Kristen Bell|Idina Menzel|Jonathan Groff|Josh ...          Chris Buck   \n",
       "\n",
       "     vote_count  vote_average  release_year    budget_adj   revenue_adj  \\\n",
       "8          2893           6.5          2015  6.807997e+07  1.064192e+09   \n",
       "11         1937           5.2          2015  1.619199e+08  1.692686e+08   \n",
       "64         1831           6.7          2015  4.609198e+07  1.416459e+08   \n",
       "85          846           6.1          2015  2.851999e+07  9.603341e+07   \n",
       "100         475           7.0          2015  0.000000e+00  0.000000e+00   \n",
       "\n",
       "        budget     revenue pop_level vote_level  \n",
       "8     74000000  1156730962         A          B  \n",
       "11   176000003   183987723         A          C  \n",
       "64    50100000   153962963         A          B  \n",
       "85    31000000   104384188         A          B  \n",
       "100          0           0         A          B  "
      ]
     },
     "execution_count": 40,
     "metadata": {},
     "output_type": "execute_result"
    }
   ],
   "source": [
    "# 多个导演中的第一个导演，设为该电影的主要导演\n",
    "\n",
    "df_multi_director.loc[:,'director'] = df_multi_director.director.apply(lambda x : x.split('|')[0])\n",
    "df_multi_director.head()"
   ]
  },
  {
   "cell_type": "code",
   "execution_count": 41,
   "metadata": {},
   "outputs": [
    {
     "data": {
      "text/html": [
       "<div>\n",
       "<style scoped>\n",
       "    .dataframe tbody tr th:only-of-type {\n",
       "        vertical-align: middle;\n",
       "    }\n",
       "\n",
       "    .dataframe tbody tr th {\n",
       "        vertical-align: top;\n",
       "    }\n",
       "\n",
       "    .dataframe thead th {\n",
       "        text-align: right;\n",
       "    }\n",
       "</style>\n",
       "<table border=\"1\" class=\"dataframe\">\n",
       "  <thead>\n",
       "    <tr style=\"text-align: right;\">\n",
       "      <th></th>\n",
       "      <th>popularity</th>\n",
       "      <th>genres</th>\n",
       "      <th>cast</th>\n",
       "      <th>director</th>\n",
       "      <th>vote_count</th>\n",
       "      <th>vote_average</th>\n",
       "      <th>release_year</th>\n",
       "      <th>budget_adj</th>\n",
       "      <th>revenue_adj</th>\n",
       "      <th>budget</th>\n",
       "      <th>revenue</th>\n",
       "      <th>pop_level</th>\n",
       "      <th>vote_level</th>\n",
       "    </tr>\n",
       "  </thead>\n",
       "  <tbody>\n",
       "    <tr>\n",
       "      <th>0</th>\n",
       "      <td>32.985763</td>\n",
       "      <td>Action|Adventure|Science Fiction|Thriller</td>\n",
       "      <td>Chris Pratt|Bryce Dallas Howard|Irrfan Khan|Vi...</td>\n",
       "      <td>Colin Trevorrow</td>\n",
       "      <td>5562</td>\n",
       "      <td>6.5</td>\n",
       "      <td>2015</td>\n",
       "      <td>1.379999e+08</td>\n",
       "      <td>1.392446e+09</td>\n",
       "      <td>150000000</td>\n",
       "      <td>1513528810</td>\n",
       "      <td>A</td>\n",
       "      <td>B</td>\n",
       "    </tr>\n",
       "    <tr>\n",
       "      <th>1</th>\n",
       "      <td>28.419936</td>\n",
       "      <td>Action|Adventure|Science Fiction|Thriller</td>\n",
       "      <td>Tom Hardy|Charlize Theron|Hugh Keays-Byrne|Nic...</td>\n",
       "      <td>George Miller</td>\n",
       "      <td>6185</td>\n",
       "      <td>7.1</td>\n",
       "      <td>2015</td>\n",
       "      <td>1.379999e+08</td>\n",
       "      <td>3.481613e+08</td>\n",
       "      <td>150000000</td>\n",
       "      <td>378436354</td>\n",
       "      <td>A</td>\n",
       "      <td>B</td>\n",
       "    </tr>\n",
       "    <tr>\n",
       "      <th>2</th>\n",
       "      <td>13.112507</td>\n",
       "      <td>Adventure|Science Fiction|Thriller</td>\n",
       "      <td>Shailene Woodley|Theo James|Kate Winslet|Ansel...</td>\n",
       "      <td>Robert Schwentke</td>\n",
       "      <td>2480</td>\n",
       "      <td>6.3</td>\n",
       "      <td>2015</td>\n",
       "      <td>1.012000e+08</td>\n",
       "      <td>2.716190e+08</td>\n",
       "      <td>110000000</td>\n",
       "      <td>295238201</td>\n",
       "      <td>A</td>\n",
       "      <td>B</td>\n",
       "    </tr>\n",
       "    <tr>\n",
       "      <th>3</th>\n",
       "      <td>11.173104</td>\n",
       "      <td>Action|Adventure|Science Fiction|Fantasy</td>\n",
       "      <td>Harrison Ford|Mark Hamill|Carrie Fisher|Adam D...</td>\n",
       "      <td>J.J. Abrams</td>\n",
       "      <td>5292</td>\n",
       "      <td>7.5</td>\n",
       "      <td>2015</td>\n",
       "      <td>1.839999e+08</td>\n",
       "      <td>1.902723e+09</td>\n",
       "      <td>200000000</td>\n",
       "      <td>2068178225</td>\n",
       "      <td>A</td>\n",
       "      <td>B</td>\n",
       "    </tr>\n",
       "    <tr>\n",
       "      <th>4</th>\n",
       "      <td>9.335014</td>\n",
       "      <td>Action|Crime|Thriller</td>\n",
       "      <td>Vin Diesel|Paul Walker|Jason Statham|Michelle ...</td>\n",
       "      <td>James Wan</td>\n",
       "      <td>2947</td>\n",
       "      <td>7.3</td>\n",
       "      <td>2015</td>\n",
       "      <td>1.747999e+08</td>\n",
       "      <td>1.385749e+09</td>\n",
       "      <td>190000000</td>\n",
       "      <td>1506249360</td>\n",
       "      <td>A</td>\n",
       "      <td>B</td>\n",
       "    </tr>\n",
       "  </tbody>\n",
       "</table>\n",
       "</div>"
      ],
      "text/plain": [
       "   popularity                                     genres  \\\n",
       "0   32.985763  Action|Adventure|Science Fiction|Thriller   \n",
       "1   28.419936  Action|Adventure|Science Fiction|Thriller   \n",
       "2   13.112507         Adventure|Science Fiction|Thriller   \n",
       "3   11.173104   Action|Adventure|Science Fiction|Fantasy   \n",
       "4    9.335014                      Action|Crime|Thriller   \n",
       "\n",
       "                                                cast          director  \\\n",
       "0  Chris Pratt|Bryce Dallas Howard|Irrfan Khan|Vi...   Colin Trevorrow   \n",
       "1  Tom Hardy|Charlize Theron|Hugh Keays-Byrne|Nic...     George Miller   \n",
       "2  Shailene Woodley|Theo James|Kate Winslet|Ansel...  Robert Schwentke   \n",
       "3  Harrison Ford|Mark Hamill|Carrie Fisher|Adam D...       J.J. Abrams   \n",
       "4  Vin Diesel|Paul Walker|Jason Statham|Michelle ...         James Wan   \n",
       "\n",
       "   vote_count  vote_average  release_year    budget_adj   revenue_adj  \\\n",
       "0        5562           6.5          2015  1.379999e+08  1.392446e+09   \n",
       "1        6185           7.1          2015  1.379999e+08  3.481613e+08   \n",
       "2        2480           6.3          2015  1.012000e+08  2.716190e+08   \n",
       "3        5292           7.5          2015  1.839999e+08  1.902723e+09   \n",
       "4        2947           7.3          2015  1.747999e+08  1.385749e+09   \n",
       "\n",
       "      budget     revenue pop_level vote_level  \n",
       "0  150000000  1513528810         A          B  \n",
       "1  150000000   378436354         A          B  \n",
       "2  110000000   295238201         A          B  \n",
       "3  200000000  2068178225         A          B  \n",
       "4  190000000  1506249360         A          B  "
      ]
     },
     "execution_count": 41,
     "metadata": {},
     "output_type": "execute_result"
    }
   ],
   "source": [
    "# 把多个导演的row 从df_2中去除\n",
    "df_2.drop(index=df_multi_director.index).head()"
   ]
  },
  {
   "cell_type": "code",
   "execution_count": 42,
   "metadata": {},
   "outputs": [],
   "source": [
    "# 将df_multi_director 与df_2剩下的行 合并在一起 ，形成director中，只有一个导演的df_director\n",
    "df_director = df_2.drop(index=df_multi_director.index).append(df_multi_director,ignore_index=True) "
   ]
  },
  {
   "cell_type": "code",
   "execution_count": 43,
   "metadata": {},
   "outputs": [
    {
     "data": {
      "text/plain": [
       "RangeIndex(start=0, stop=10731, step=1)"
      ]
     },
     "execution_count": 43,
     "metadata": {},
     "output_type": "execute_result"
    }
   ],
   "source": [
    "df_director.index"
   ]
  },
  {
   "cell_type": "code",
   "execution_count": 44,
   "metadata": {
    "scrolled": true
   },
   "outputs": [
    {
     "data": {
      "text/html": [
       "<div>\n",
       "<style scoped>\n",
       "    .dataframe tbody tr th:only-of-type {\n",
       "        vertical-align: middle;\n",
       "    }\n",
       "\n",
       "    .dataframe tbody tr th {\n",
       "        vertical-align: top;\n",
       "    }\n",
       "\n",
       "    .dataframe thead th {\n",
       "        text-align: right;\n",
       "    }\n",
       "</style>\n",
       "<table border=\"1\" class=\"dataframe\">\n",
       "  <thead>\n",
       "    <tr style=\"text-align: right;\">\n",
       "      <th></th>\n",
       "      <th>director</th>\n",
       "      <th>popularity</th>\n",
       "      <th>vote_count</th>\n",
       "      <th>vote_average</th>\n",
       "      <th>release_year</th>\n",
       "      <th>budget_adj</th>\n",
       "      <th>revenue_adj</th>\n",
       "      <th>budget</th>\n",
       "      <th>revenue</th>\n",
       "    </tr>\n",
       "  </thead>\n",
       "  <tbody>\n",
       "    <tr>\n",
       "      <th>843</th>\n",
       "      <td>Clyde Geronimi</td>\n",
       "      <td>2.631987</td>\n",
       "      <td>913.0</td>\n",
       "      <td>6.60</td>\n",
       "      <td>1961.000000</td>\n",
       "      <td>2.917944e+07</td>\n",
       "      <td>1.574815e+09</td>\n",
       "      <td>4.000000e+06</td>\n",
       "      <td>2.158800e+08</td>\n",
       "    </tr>\n",
       "    <tr>\n",
       "      <th>1594</th>\n",
       "      <td>George Lucas</td>\n",
       "      <td>3.910306</td>\n",
       "      <td>2116.5</td>\n",
       "      <td>6.70</td>\n",
       "      <td>1987.833333</td>\n",
       "      <td>7.829333e+07</td>\n",
       "      <td>1.052320e+09</td>\n",
       "      <td>6.009233e+07</td>\n",
       "      <td>5.527585e+08</td>\n",
       "    </tr>\n",
       "    <tr>\n",
       "      <th>2767</th>\n",
       "      <td>Lee Unkrich</td>\n",
       "      <td>2.957715</td>\n",
       "      <td>3411.5</td>\n",
       "      <td>7.40</td>\n",
       "      <td>2005.500000</td>\n",
       "      <td>1.708106e+08</td>\n",
       "      <td>8.781367e+08</td>\n",
       "      <td>1.575000e+08</td>\n",
       "      <td>8.129941e+08</td>\n",
       "    </tr>\n",
       "    <tr>\n",
       "      <th>1144</th>\n",
       "      <td>David Yates</td>\n",
       "      <td>4.163195</td>\n",
       "      <td>2766.8</td>\n",
       "      <td>7.14</td>\n",
       "      <td>2008.400000</td>\n",
       "      <td>1.566050e+08</td>\n",
       "      <td>8.354911e+08</td>\n",
       "      <td>1.550000e+08</td>\n",
       "      <td>8.308591e+08</td>\n",
       "    </tr>\n",
       "    <tr>\n",
       "      <th>482</th>\n",
       "      <td>Bob Peterson</td>\n",
       "      <td>4.908902</td>\n",
       "      <td>4225.0</td>\n",
       "      <td>7.60</td>\n",
       "      <td>2009.000000</td>\n",
       "      <td>1.778701e+08</td>\n",
       "      <td>7.433371e+08</td>\n",
       "      <td>1.750000e+08</td>\n",
       "      <td>7.313427e+08</td>\n",
       "    </tr>\n",
       "  </tbody>\n",
       "</table>\n",
       "</div>"
      ],
      "text/plain": [
       "            director  popularity  vote_count  vote_average  release_year  \\\n",
       "843   Clyde Geronimi    2.631987       913.0          6.60   1961.000000   \n",
       "1594    George Lucas    3.910306      2116.5          6.70   1987.833333   \n",
       "2767     Lee Unkrich    2.957715      3411.5          7.40   2005.500000   \n",
       "1144     David Yates    4.163195      2766.8          7.14   2008.400000   \n",
       "482     Bob Peterson    4.908902      4225.0          7.60   2009.000000   \n",
       "\n",
       "        budget_adj   revenue_adj        budget       revenue  \n",
       "843   2.917944e+07  1.574815e+09  4.000000e+06  2.158800e+08  \n",
       "1594  7.829333e+07  1.052320e+09  6.009233e+07  5.527585e+08  \n",
       "2767  1.708106e+08  8.781367e+08  1.575000e+08  8.129941e+08  \n",
       "1144  1.566050e+08  8.354911e+08  1.550000e+08  8.308591e+08  \n",
       "482   1.778701e+08  7.433371e+08  1.750000e+08  7.313427e+08  "
      ]
     },
     "execution_count": 44,
     "metadata": {},
     "output_type": "execute_result"
    }
   ],
   "source": [
    "df_director_grouped = df_director.groupby('director',as_index=False).mean().sort_values(by='revenue_adj',ascending=False)\n",
    "df_director_grouped.head()"
   ]
  },
  {
   "cell_type": "code",
   "execution_count": 45,
   "metadata": {},
   "outputs": [
    {
     "data": {
      "text/plain": [
       "Text(0.5,1,'Average Revenue_adj by Director Number')"
      ]
     },
     "execution_count": 45,
     "metadata": {},
     "output_type": "execute_result"
    },
    {
     "data": {
      "image/png": "[encoded data removed]",
      "text/plain": [
       "<Figure size 576x576 with 1 Axes>"
      ]
     },
     "metadata": {},
     "output_type": "display_data"
    }
   ],
   "source": [
    "# 将df_director_grouped中director列中的导演，用0-4791，序号编排\n",
    "# 绘制导演编号与对应的票房关系\n",
    "\n",
    "fig = plt.figure(figsize=(8,8))\n",
    "\n",
    "plt.scatter(x=np.arange(len(df_director_grouped.revenue_adj)),y=df_director_grouped.revenue_adj)\n",
    "plt.yscale('log')\n",
    "plt.ylim([1,1e10])\n",
    "plt.xlim([0,2200])\n",
    "plt.xlabel('Director Number')\n",
    "plt.ylabel('Average Revenue_adj')\n",
    "plt.title('Average Revenue_adj by Director Number')"
   ]
  },
  {
   "cell_type": "markdown",
   "metadata": {},
   "source": [
    ">**可以看出，不同导演的平均票房有很大的差别**"
   ]
  },
  {
   "cell_type": "markdown",
   "metadata": {},
   "source": [
    "## Q6 演员 和 票房"
   ]
  },
  {
   "cell_type": "code",
   "execution_count": 48,
   "metadata": {},
   "outputs": [],
   "source": [
    "# 设置一个get_len函数，得到每一个元素的长度\n",
    "\n",
    "def get_len(x):\n",
    "    return len(x)"
   ]
  },
  {
   "cell_type": "code",
   "execution_count": 49,
   "metadata": {},
   "outputs": [
    {
     "data": {
      "text/plain": [
       "5"
      ]
     },
     "execution_count": 49,
     "metadata": {},
     "output_type": "execute_result"
    }
   ],
   "source": [
    "# 查看cast列中，最多有多少个演员\n",
    "\n",
    "df_2.cast.str.split('|').apply(get_len).max() "
   ]
  },
  {
   "cell_type": "markdown",
   "metadata": {},
   "source": [
    ">因此，可以把cast分成5列，像研究电影类型一样，处理演员表。"
   ]
  },
  {
   "cell_type": "code",
   "execution_count": 50,
   "metadata": {
    "scrolled": true
   },
   "outputs": [
    {
     "data": {
      "text/html": [
       "<div>\n",
       "<style scoped>\n",
       "    .dataframe tbody tr th:only-of-type {\n",
       "        vertical-align: middle;\n",
       "    }\n",
       "\n",
       "    .dataframe tbody tr th {\n",
       "        vertical-align: top;\n",
       "    }\n",
       "\n",
       "    .dataframe thead th {\n",
       "        text-align: right;\n",
       "    }\n",
       "</style>\n",
       "<table border=\"1\" class=\"dataframe\">\n",
       "  <thead>\n",
       "    <tr style=\"text-align: right;\">\n",
       "      <th></th>\n",
       "      <th>cast1</th>\n",
       "      <th>cast2</th>\n",
       "      <th>cast3</th>\n",
       "      <th>cast4</th>\n",
       "      <th>cast5</th>\n",
       "    </tr>\n",
       "  </thead>\n",
       "  <tbody>\n",
       "    <tr>\n",
       "      <th>0</th>\n",
       "      <td>Chris Pratt</td>\n",
       "      <td>Bryce Dallas Howard</td>\n",
       "      <td>Irrfan Khan</td>\n",
       "      <td>Vincent D'Onofrio</td>\n",
       "      <td>Nick Robinson</td>\n",
       "    </tr>\n",
       "    <tr>\n",
       "      <th>1</th>\n",
       "      <td>Tom Hardy</td>\n",
       "      <td>Charlize Theron</td>\n",
       "      <td>Hugh Keays-Byrne</td>\n",
       "      <td>Nicholas Hoult</td>\n",
       "      <td>Josh Helman</td>\n",
       "    </tr>\n",
       "    <tr>\n",
       "      <th>2</th>\n",
       "      <td>Shailene Woodley</td>\n",
       "      <td>Theo James</td>\n",
       "      <td>Kate Winslet</td>\n",
       "      <td>Ansel Elgort</td>\n",
       "      <td>Miles Teller</td>\n",
       "    </tr>\n",
       "    <tr>\n",
       "      <th>3</th>\n",
       "      <td>Harrison Ford</td>\n",
       "      <td>Mark Hamill</td>\n",
       "      <td>Carrie Fisher</td>\n",
       "      <td>Adam Driver</td>\n",
       "      <td>Daisy Ridley</td>\n",
       "    </tr>\n",
       "    <tr>\n",
       "      <th>4</th>\n",
       "      <td>Vin Diesel</td>\n",
       "      <td>Paul Walker</td>\n",
       "      <td>Jason Statham</td>\n",
       "      <td>Michelle Rodriguez</td>\n",
       "      <td>Dwayne Johnson</td>\n",
       "    </tr>\n",
       "  </tbody>\n",
       "</table>\n",
       "</div>"
      ],
      "text/plain": [
       "              cast1                cast2             cast3  \\\n",
       "0       Chris Pratt  Bryce Dallas Howard       Irrfan Khan   \n",
       "1         Tom Hardy      Charlize Theron  Hugh Keays-Byrne   \n",
       "2  Shailene Woodley           Theo James      Kate Winslet   \n",
       "3     Harrison Ford          Mark Hamill     Carrie Fisher   \n",
       "4        Vin Diesel          Paul Walker     Jason Statham   \n",
       "\n",
       "                cast4           cast5  \n",
       "0   Vincent D'Onofrio   Nick Robinson  \n",
       "1      Nicholas Hoult     Josh Helman  \n",
       "2        Ansel Elgort    Miles Teller  \n",
       "3         Adam Driver    Daisy Ridley  \n",
       "4  Michelle Rodriguez  Dwayne Johnson  "
      ]
     },
     "execution_count": 50,
     "metadata": {},
     "output_type": "execute_result"
    }
   ],
   "source": [
    "# 生成将cast分裂成5列\n",
    "\n",
    "df_cast = pd.DataFrame(data= df_2.cast.str.split('|').tolist(), columns=['cast1','cast2','cast3','cast4','cast5'])\n",
    "df_cast.head()"
   ]
  },
  {
   "cell_type": "code",
   "execution_count": 51,
   "metadata": {},
   "outputs": [],
   "source": [
    "# 新增一列电影票房列\n",
    "\n",
    "df_cast['revenue_adj'] = df_2.revenue_adj.values"
   ]
  },
  {
   "cell_type": "code",
   "execution_count": 52,
   "metadata": {
    "scrolled": true
   },
   "outputs": [
    {
     "data": {
      "text/plain": [
       "cast1          10731\n",
       "cast2          10594\n",
       "cast3          10510\n",
       "cast4          10404\n",
       "cast5          10095\n",
       "revenue_adj    10731\n",
       "dtype: int64"
      ]
     },
     "execution_count": 52,
     "metadata": {},
     "output_type": "execute_result"
    }
   ],
   "source": [
    "df_cast.count()"
   ]
  },
  {
   "cell_type": "code",
   "execution_count": 53,
   "metadata": {
    "scrolled": true
   },
   "outputs": [
    {
     "data": {
      "text/html": [
       "<div>\n",
       "<style scoped>\n",
       "    .dataframe tbody tr th:only-of-type {\n",
       "        vertical-align: middle;\n",
       "    }\n",
       "\n",
       "    .dataframe tbody tr th {\n",
       "        vertical-align: top;\n",
       "    }\n",
       "\n",
       "    .dataframe thead th {\n",
       "        text-align: right;\n",
       "    }\n",
       "</style>\n",
       "<table border=\"1\" class=\"dataframe\">\n",
       "  <thead>\n",
       "    <tr style=\"text-align: right;\">\n",
       "      <th></th>\n",
       "      <th>revenue_adj</th>\n",
       "      <th>variable</th>\n",
       "      <th>cast</th>\n",
       "    </tr>\n",
       "  </thead>\n",
       "  <tbody>\n",
       "    <tr>\n",
       "      <th>0</th>\n",
       "      <td>1.392446e+09</td>\n",
       "      <td>cast1</td>\n",
       "      <td>Chris Pratt</td>\n",
       "    </tr>\n",
       "    <tr>\n",
       "      <th>1</th>\n",
       "      <td>3.481613e+08</td>\n",
       "      <td>cast1</td>\n",
       "      <td>Tom Hardy</td>\n",
       "    </tr>\n",
       "    <tr>\n",
       "      <th>2</th>\n",
       "      <td>2.716190e+08</td>\n",
       "      <td>cast1</td>\n",
       "      <td>Shailene Woodley</td>\n",
       "    </tr>\n",
       "    <tr>\n",
       "      <th>3</th>\n",
       "      <td>1.902723e+09</td>\n",
       "      <td>cast1</td>\n",
       "      <td>Harrison Ford</td>\n",
       "    </tr>\n",
       "    <tr>\n",
       "      <th>4</th>\n",
       "      <td>1.385749e+09</td>\n",
       "      <td>cast1</td>\n",
       "      <td>Vin Diesel</td>\n",
       "    </tr>\n",
       "  </tbody>\n",
       "</table>\n",
       "</div>"
      ],
      "text/plain": [
       "    revenue_adj variable              cast\n",
       "0  1.392446e+09    cast1       Chris Pratt\n",
       "1  3.481613e+08    cast1         Tom Hardy\n",
       "2  2.716190e+08    cast1  Shailene Woodley\n",
       "3  1.902723e+09    cast1     Harrison Ford\n",
       "4  1.385749e+09    cast1        Vin Diesel"
      ]
     },
     "execution_count": 53,
     "metadata": {},
     "output_type": "execute_result"
    }
   ],
   "source": [
    "# 将cast1 - cast5 放在同一列中\n",
    "\n",
    "df_cast_revenue = df_cast.melt(id_vars='revenue_adj', value_vars=['cast1','cast2','cast3','cast4','cast5'],value_name='cast')\n",
    "df_cast_revenue.head()"
   ]
  },
  {
   "cell_type": "code",
   "execution_count": 54,
   "metadata": {
    "scrolled": true
   },
   "outputs": [
    {
     "data": {
      "text/html": [
       "<div>\n",
       "<style scoped>\n",
       "    .dataframe tbody tr th:only-of-type {\n",
       "        vertical-align: middle;\n",
       "    }\n",
       "\n",
       "    .dataframe tbody tr th {\n",
       "        vertical-align: top;\n",
       "    }\n",
       "\n",
       "    .dataframe thead th {\n",
       "        text-align: right;\n",
       "    }\n",
       "</style>\n",
       "<table border=\"1\" class=\"dataframe\">\n",
       "  <thead>\n",
       "    <tr style=\"text-align: right;\">\n",
       "      <th></th>\n",
       "      <th>cast</th>\n",
       "      <th>revenue_adj</th>\n",
       "    </tr>\n",
       "  </thead>\n",
       "  <tbody>\n",
       "    <tr>\n",
       "      <th>3880</th>\n",
       "      <td>Daisy Ridley</td>\n",
       "      <td>1.902723e+09</td>\n",
       "    </tr>\n",
       "    <tr>\n",
       "      <th>15319</th>\n",
       "      <td>Robert MacNaughton</td>\n",
       "      <td>1.791694e+09</td>\n",
       "    </tr>\n",
       "    <tr>\n",
       "      <th>7412</th>\n",
       "      <td>J. Pat O'Malley</td>\n",
       "      <td>1.574815e+09</td>\n",
       "    </tr>\n",
       "    <tr>\n",
       "      <th>1909</th>\n",
       "      <td>Betty Lou Gerson</td>\n",
       "      <td>1.574815e+09</td>\n",
       "    </tr>\n",
       "    <tr>\n",
       "      <th>1818</th>\n",
       "      <td>Ben Wright</td>\n",
       "      <td>1.574815e+09</td>\n",
       "    </tr>\n",
       "  </tbody>\n",
       "</table>\n",
       "</div>"
      ],
      "text/plain": [
       "                     cast   revenue_adj\n",
       "3880         Daisy Ridley  1.902723e+09\n",
       "15319  Robert MacNaughton  1.791694e+09\n",
       "7412      J. Pat O'Malley  1.574815e+09\n",
       "1909     Betty Lou Gerson  1.574815e+09\n",
       "1818           Ben Wright  1.574815e+09"
      ]
     },
     "execution_count": 54,
     "metadata": {},
     "output_type": "execute_result"
    }
   ],
   "source": [
    "# 按照cast分组，并按电影票房排序\n",
    "\n",
    "df_cast_grouped = df_cast_revenue.groupby('cast',as_index=False).mean().sort_values(by='revenue_adj',ascending=False)\n",
    "df_cast_grouped.head()"
   ]
  },
  {
   "cell_type": "code",
   "execution_count": 55,
   "metadata": {},
   "outputs": [
    {
     "data": {
      "text/plain": [
       "Text(0.5,1,'Average Revenue_adj by Cast Number')"
      ]
     },
     "execution_count": 55,
     "metadata": {},
     "output_type": "execute_result"
    },
    {
     "data": {
      "image/png": "[encoded data removed]",
      "text/plain": [
       "<Figure size 720x432 with 1 Axes>"
      ]
     },
     "metadata": {},
     "output_type": "display_data"
    }
   ],
   "source": [
    "# 将df_cast_grouped中cast列中的演员，用0-18929序号编排\n",
    "# 绘制演员编号与对应的票房关系\n",
    "\n",
    "fig = plt.figure(figsize=(10,6))\n",
    "\n",
    "plt.scatter(x=np.arange(len(df_cast_grouped.revenue_adj)),y=df_cast_grouped.revenue_adj)\n",
    "plt.yscale('log')\n",
    "plt.ylim([1,1e10])\n",
    "plt.xlim([0,9000])\n",
    "plt.xlabel('Cast Number')\n",
    "plt.ylabel('Average Revenue_adj')\n",
    "plt.title('Average Revenue_adj by Cast Number')"
   ]
  },
  {
   "cell_type": "markdown",
   "metadata": {},
   "source": [
    ">- 分析过受欢迎程度、电影评分、电影导演与票房的关系后，看一看演员的不同是否与票房有关\n",
    "- 用与研究导演与票房关系相同方法，将不同演员进行编号，进而查看不同演员与其参演电影票房的关系  \n",
    "\n",
    "\n",
    ">- 利用散点图，横坐标为演员编号，纵坐标为经过通货膨胀调整后的票房平均值\n",
    "- 从图中可知，不同演员参演的电影，其票房均值有比较大的差异"
   ]
  },
  {
   "cell_type": "markdown",
   "metadata": {},
   "source": [
    "<a id='conclusions'></a>\n",
    "## 结论\n",
    "\n",
    "> **提示**：最后，你需要总结自己的调查结果。请确保你了解在探索过程中的局限性。如果尚未进行任何统计检验，不要做出任何统计结论。切记不要根据相关关系贸然推导出因果关系！\n",
    "\n",
    "> **提示**：如果你对自己的研究成果感到满意，应将其副本保存为 HTML 或 PDF 形式。在导出报告之前请检查一遍，确保报告结构完整，信息连贯。应删除所有类似的“提示”引用段，以保持报告中的简洁度。在提交之前，你还需要查看在课程结尾的项目提交页面中的项目审阅规范。\n",
    "\n",
    "> 如需将报告导出到工作区，你可以运行下面的代码框。如果正确，会返回代码 0，工作区目录下会生成 .html 文件（单击左上角的 jupyter 图标）。也可以通过 **文件** > **下载为** 子菜单下载 html 报告，然后手动上传到工作区目录。完成之后，可以单击右下角的“提交项目”，来提交你的项目。恭喜你！"
   ]
  },
  {
   "cell_type": "markdown",
   "metadata": {},
   "source": [
    "**结论：**\n",
    "1. 在不考虑其他影响条件下，不同电影类别的受欢迎程度有区别。  \n",
    "  1.1. Adventure, Science Fiction, Fantasy这三类电影最受欢迎  \n",
    "  1.2. TV Movie, Foreign, Documentary 这三类最不受欢迎\n",
    "2. 影响票房的因素有时间、受欢迎程度、评分、导演以及演员  \n",
    "  2.1.  时间：随时间变化，票房有增加；经过通货膨胀调整后的票房，可以减除时间对票房的影响。  \n",
    "  2.2. 受欢迎程度与评分  \n",
    "    - 受欢迎程度：排除时间对票房影响，越受欢迎的电影，票房越高。    \n",
    "    + 电影平均评分：排除时间对票房影响，评分越高的电影，票房越高。  \n",
    "    - 相对评分来说，电影票房与受欢迎程关系更密切  \n",
    "    \n",
    "  2.3. 电影导演：未考虑因素下，导演不同，电影票房有很大差距  \n",
    "  2.4. 演员：未考虑其他因素下，演员不同，电影票房有很大区别\n",
    "\n",
    "补充说明： \n",
    "  - 虽然已探讨4种与电影票房相关的特征值，不过，电影票房还有可能与发行公司、电影时长、电影成本、电影类型等有微弱的关系。\n",
    "  - 数据中有很多票房为0的异常值，不过，去掉这些异常值，对分析结果不会造成显著影响。因此，没有去除。\n",
    "  - 本项目只探索了特征之间的相互关系，并没有他们之间的因果关系。\n",
    "\n",
    " "
   ]
  },
  {
   "cell_type": "code",
   "execution_count": null,
   "metadata": {},
   "outputs": [],
   "source": [
    "from subprocess import call\n",
    "call(['python', '-m', 'nbconvert', 'Investigate_a_Dataset.ipynb'])"
   ]
  }
 ],
 "metadata": {
  "kernelspec": {
   "display_name": "Python 3",
   "language": "python",
   "name": "python3"
  },
  "language_info": {
   "codemirror_mode": {
    "name": "ipython",
    "version": 3
   },
   "file_extension": ".py",
   "mimetype": "text/x-python",
   "name": "python",
   "nbconvert_exporter": "python",
   "pygments_lexer": "ipython3",
   "version": "3.6.4"
  }
 },
 "nbformat": 4,
 "nbformat_minor": 2
}
